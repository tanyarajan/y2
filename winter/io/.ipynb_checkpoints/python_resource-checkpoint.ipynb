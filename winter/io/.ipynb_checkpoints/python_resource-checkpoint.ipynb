{
 "cells": [
  {
   "cell_type": "code",
   "execution_count": 1,
   "metadata": {},
   "outputs": [],
   "source": [
    "# Python Commands\n",
    "# Overview"
   ]
  },
  {
   "cell_type": "code",
   "execution_count": 8,
   "metadata": {},
   "outputs": [
    {
     "data": {
      "text/plain": [
       "[bool, str, float, int]"
      ]
     },
     "execution_count": 8,
     "metadata": {},
     "output_type": "execute_result"
    }
   ],
   "source": [
    "#-------------------------\n",
    "#         Lists \n",
    "#-------------------------\n",
    "# List of numbers\n",
    "L = list(range(10))\n",
    "type(L[0])\n",
    "\n",
    "# converting to list of strings\n",
    "L2 = [str(c) for c in L]\n",
    "\n",
    "# het lists\n",
    "L3 = [True, \"2\", 3.0, 4]\n",
    "[type(item) for item in L3]\n",
    "\n",
    "# better to store stuff in arrays bc lists are so dynamic"
   ]
  },
  {
   "cell_type": "code",
   "execution_count": 28,
   "metadata": {},
   "outputs": [
    {
     "name": "stdout",
     "output_type": "stream",
     "text": [
      "3\n",
      "54\n",
      "(3, 3, 6)\n"
     ]
    },
    {
     "data": {
      "text/plain": [
       "array([[4, 1, 4, 9, 8, 1],\n",
       "       [1, 7, 9, 9, 3, 6],\n",
       "       [7, 2, 0, 3, 5, 9]])"
      ]
     },
     "execution_count": 28,
     "metadata": {},
     "output_type": "execute_result"
    }
   ],
   "source": [
    "#-------------------------\n",
    "#      Numpy Arrays\n",
    "#-------------------------\n",
    "import numpy as np \n",
    "np.random.seed(0)\n",
    "\n",
    "# normal list\n",
    "G = [1.0,2,3,4,5]\n",
    "\n",
    "# make it an array (converts everything to floats)\n",
    "np.array(G)\n",
    "\n",
    "# explicitly set type\n",
    "np.array(G, dtype='float32')\n",
    "\n",
    "# multidimensional: how to make a matrix essentially?\n",
    "# inner list fills in the rows\n",
    "np.array([range(i, i+3) for i in [2,4,6]])\n",
    "\n",
    "# zeroes\n",
    "np.zeros(10, dtype=int)\n",
    "\n",
    "# ones\n",
    "np.ones((3,5), dtype=float)\n",
    "\n",
    "# some other number\n",
    "np.full((3,5), 3.14)\n",
    "\n",
    "# sequence (start, end, step)\n",
    "np.arange(0, 20, 2)\n",
    "\n",
    "# random numbers in a matrix (unif)\n",
    "np.random.random((3,3))\n",
    "\n",
    "# random numbers in a matrix (normal) mean sigma dims\n",
    "np.random.normal(0,1, (3,3))\n",
    "\n",
    "# random integers\n",
    "hi = np.random.randint(0,10, (3,3,6))\n",
    "\n",
    "# identity\n",
    "np.eye(3)\n",
    "\n",
    "# uninitialized array\n",
    "np.empty(3)\n",
    "\n",
    "# attributes\n",
    "print(hi.ndim)\n",
    "print(hi.size)\n",
    "print(hi.shape)"
   ]
  },
  {
   "cell_type": "code",
   "execution_count": 67,
   "metadata": {},
   "outputs": [
    {
     "name": "stdout",
     "output_type": "stream",
     "text": [
      "[[1 2 3]\n",
      " [4 5 6]\n",
      " [7 8 9]]\n"
     ]
    },
    {
     "data": {
      "text/plain": [
       "array([1, 2, 3])"
      ]
     },
     "execution_count": 67,
     "metadata": {},
     "output_type": "execute_result"
    }
   ],
   "source": [
    "# indexing\n",
    "hi[1,2,3]\n",
    "hi[2,:,2]\n",
    "hi[2,:,2] = np.array([10,10,10])\n",
    "\n",
    "# slicing (start:stop:step)\n",
    "x = np.arange(10)\n",
    "x[1::2]\n",
    "\n",
    "# reverse\n",
    "x[::-1]\n",
    "\n",
    "# Note: slices are views not copies - will change the original data!!!\n",
    "try1 = x[1:4]\n",
    "try1[1] = 100\n",
    "x\n",
    "try2 = x[1:4].copy()\n",
    "try2[1] = 2\n",
    "x\n",
    "\n",
    "# Reshape command\n",
    "grid = np.arange(1,10).reshape((3,3))\n",
    "print(grid)\n",
    "\n",
    "# creating row/col vector\n",
    "x = np.array([1,2,3])\n",
    "y= x.reshape((1,3))\n",
    "z=x.reshape((3,1))\n",
    "\n",
    "# concatenating\n",
    "np.concatenate([grid, grid], axis=0) # rbind\n",
    "np.concatenate([grid, grid], axis=1) # cbind\n",
    "np.concatenate([x,x]) # creates longer list\n",
    "np.concatenate([y,y]) #rbind\n",
    "np.vstack([y, grid])\n",
    "np.hstack([z, grid])\n",
    "np.dstack([grid,grid, grid]) # along theird dimension\n",
    "\n",
    "# splitting (also vsplit and hsplit)\n",
    "x = [1,2,3,99,99, 3,2,1]\n",
    "x1, x2, x3 = np.split(x, [3,5]) # specify split start index"
   ]
  },
  {
   "cell_type": "code",
   "execution_count": 96,
   "metadata": {},
   "outputs": [
    {
     "name": "stdout",
     "output_type": "stream",
     "text": [
      "[ 0. 10. 20. 30. 40.]\n",
      "[ 1.  0.  2.  0.  4.  0.  8.  0. 16.  0.]\n"
     ]
    },
    {
     "data": {
      "text/plain": [
       "array([[ 1,  2,  3,  4,  5],\n",
       "       [ 2,  4,  6,  8, 10],\n",
       "       [ 3,  6,  9, 12, 15],\n",
       "       [ 4,  8, 12, 16, 20],\n",
       "       [ 5, 10, 15, 20, 25]])"
      ]
     },
     "execution_count": 96,
     "metadata": {},
     "output_type": "execute_result"
    }
   ],
   "source": [
    "#----------------------------------------------\n",
    "#     Don't Use Loops! Vectorize that shit \n",
    "#----------------------------------------------\n",
    "values = np.random.randint(1, 10, size=5)\n",
    "\n",
    "# simple division\n",
    "values/1.0 \n",
    "\n",
    "# dividing by diff numbers\n",
    "np.arange(5)/np.arange(1,6)\n",
    "\n",
    "# normal operators except exponentiation\n",
    "x= np.arange(9).reshape((3,3))\n",
    "x ** 2\n",
    "np.exp(x)\n",
    "np.abs(x)\n",
    "\n",
    "# trig fns\n",
    "theta = np.linspace(0, np.pi, 10)\n",
    "np.sin(theta)\n",
    "np.log([2,2,2])\n",
    "\n",
    "# look at scipy package for more complicated ufuncs\n",
    "\n",
    "# replacing things quickly\n",
    "x = np.arange(5)\n",
    "y = np.empty(5)\n",
    "np.multiply(x, 10, out=y)\n",
    "print(y)\n",
    "\n",
    "y = np.zeros(10)\n",
    "np.power(2, x, out=y[::2])\n",
    "print(y)\n",
    "\n",
    "\n",
    "# adding / multiplying / whatever all the elements in a list\n",
    "x = np.arange(1,6)\n",
    "np.add.reduce(x)\n",
    "np.multiply.reduce(x)\n",
    "\n",
    "# cdf type thing where you're cumul add/mult\n",
    "np.add.accumulate(x)\n",
    "np.multiply.accumulate(x)\n",
    "# or can use np.sum, np.prod, np.cumsum, np.cumprod\n",
    "\n",
    "# outer product\n",
    "x = np.arange(1,6)\n",
    "np.multiply.outer(x,x)"
   ]
  },
  {
   "cell_type": "code",
   "execution_count": 108,
   "metadata": {},
   "outputs": [
    {
     "data": {
      "text/plain": [
       "False"
      ]
     },
     "execution_count": 108,
     "metadata": {},
     "output_type": "execute_result"
    }
   ],
   "source": [
    "#----------------------------------------------\n",
    "#          Mins, maxes, etc.\n",
    "#----------------------------------------------\n",
    "big = np.random.rand(1000000)\n",
    "\n",
    "# mins and maxes\n",
    "np.min(big), np.max(big)\n",
    "\n",
    "# multiple dims\n",
    "M = np.random.random((3, 4))\n",
    "M.sum()\n",
    "M.min(axis=0) # col mins\n",
    "M.max(axis=1) # row maxes\n",
    "\n",
    "# can also do: std, var, margmin, argmax, median, percentile, any, all\n",
    "np.percentile(x, 25)\n",
    "np.all(x == 2)"
   ]
  },
  {
   "cell_type": "code",
   "execution_count": 117,
   "metadata": {},
   "outputs": [],
   "source": [
    "# random other things\n",
    "np.count_nonzero(x)\n",
    "np.sum(x < 3)\n",
    "np.sum(grid < 3, axis=1)\n",
    "\n",
    "# masks\n",
    "x[x < 3]\n",
    "days = np.arange(365)\n",
    "summer = (days > 172) & (days < 262)"
   ]
  },
  {
   "cell_type": "code",
   "execution_count": 121,
   "metadata": {},
   "outputs": [
    {
     "data": {
      "text/plain": [
       "array([[71, 86],\n",
       "       [60, 20]])"
      ]
     },
     "execution_count": 121,
     "metadata": {},
     "output_type": "execute_result"
    }
   ],
   "source": [
    "# fancy indexing\n",
    "rand = np.random.RandomState(42)\n",
    "x = rand.randint(100, size=10)\n",
    "ind = [3,7,4]\n",
    "x[ind]\n",
    "\n",
    "# reflects shape of index\n",
    "ind = np.array([[3,7], \n",
    "                [4,5]])\n",
    "x[ind]\n",
    "\n",
    "# multidim\n",
    "X = np.arange(12).reshape((3, 4))\n",
    "col = np.array([2, 1, 3])\n",
    "X[row, col]"
   ]
  },
  {
   "cell_type": "code",
   "execution_count": null,
   "metadata": {},
   "outputs": [],
   "source": []
  }
 ],
 "metadata": {
  "kernelspec": {
   "display_name": "Python 3",
   "language": "python",
   "name": "python3"
  },
  "language_info": {
   "codemirror_mode": {
    "name": "ipython",
    "version": 3
   },
   "file_extension": ".py",
   "mimetype": "text/x-python",
   "name": "python",
   "nbconvert_exporter": "python",
   "pygments_lexer": "ipython3",
   "version": "3.8.5"
  }
 },
 "nbformat": 4,
 "nbformat_minor": 4
}
