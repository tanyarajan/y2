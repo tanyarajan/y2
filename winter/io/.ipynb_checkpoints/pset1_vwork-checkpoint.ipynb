{
 "cells": [
  {
   "cell_type": "code",
   "execution_count": 1,
   "metadata": {},
   "outputs": [],
   "source": [
    "# importing packages\n",
    "import numpy as np\n",
    "import pandas as pd\n",
    "import sys"
   ]
  },
  {
   "cell_type": "code",
   "execution_count": 2,
   "metadata": {},
   "outputs": [],
   "source": [
    "# read in data\n",
    "data = pd.read_csv(\"psetOne.csv\")"
   ]
  },
  {
   "cell_type": "code",
   "execution_count": 3,
   "metadata": {},
   "outputs": [],
   "source": [
    "# theta parameters\n",
    "alpha = -3\n",
    "theta = np.array([alpha,1,1,2,-1,1])\n",
    "\n",
    "# drawing xi from a standard normal\n",
    "data['xi'] = np.random.normal(0,1,len(data))"
   ]
  },
  {
   "cell_type": "code",
   "execution_count": 4,
   "metadata": {},
   "outputs": [
    {
     "data": {
      "text/plain": [
       "array([[1., 1., 0., 0., 0., 0., 0.],\n",
       "       [1., 1., 0., 0., 0., 0., 0.],\n",
       "       [0., 0., 1., 1., 0., 0., 0.],\n",
       "       [0., 0., 1., 1., 0., 0., 0.],\n",
       "       [0., 0., 0., 0., 1., 1., 1.],\n",
       "       [0., 0., 0., 0., 1., 1., 1.],\n",
       "       [0., 0., 0., 0., 1., 1., 1.]])"
      ]
     },
     "execution_count": 4,
     "metadata": {},
     "output_type": "execute_result"
    }
   ],
   "source": [
    "\n",
    "# function ingesting brand data and giving ownership matrix\n",
    "def ownership(brands):\n",
    "    own = np.eye(len(brands))\n",
    "    for i in range(len(brands)):\n",
    "        for j in range(len(brands)):\n",
    "            if (brands[i][0] == brands[j][0]) & (brands[i][1] == brands[j][1]):\n",
    "                own[i, j] = 1\n",
    "            else:\n",
    "                pass\n",
    "    return own\n",
    "\n",
    "# computing ownership for market 17\n",
    "d17 = data[data['Market'] == 17].copy()\n",
    "branddta = np.array(d17[['Brand2', 'Brand3']].copy())\n",
    "own = np.eye(len(branddta))\n",
    "ownership(branddta)\n"
   ]
  },
  {
   "cell_type": "code",
   "execution_count": 5,
   "metadata": {},
   "outputs": [],
   "source": [
    "# share vector per product\n",
    "Xvec = d17[['Price', 'Constant', 'EngineSize', 'SportsBike', 'Brand2', 'Brand3']]\n",
    "delta = np.matmul(np.array(Xvec), theta.T)\n",
    "xivals = d17['xi']\n",
    "num = np.exp(delta + np.array(xivals))\n",
    "denom = sum(num)\n",
    "shares = num / denom"
   ]
  },
  {
   "cell_type": "code",
   "execution_count": 6,
   "metadata": {},
   "outputs": [
    {
     "name": "stdout",
     "output_type": "stream",
     "text": [
      "no\n"
     ]
    },
    {
     "ename": "NameError",
     "evalue": "name 'eoff' is not defined",
     "output_type": "error",
     "traceback": [
      "\u001b[0;31m---------------------------------------------------------------------------\u001b[0m",
      "\u001b[0;31mNameError\u001b[0m                                 Traceback (most recent call last)",
      "\u001b[0;32m<ipython-input-6-1361087796a5>\u001b[0m in \u001b[0;36m<module>\u001b[0;34m\u001b[0m\n\u001b[1;32m     10\u001b[0m     \u001b[0;32mfor\u001b[0m \u001b[0my\u001b[0m \u001b[0;32min\u001b[0m \u001b[0mrange\u001b[0m\u001b[0;34m(\u001b[0m\u001b[0mlen\u001b[0m\u001b[0;34m(\u001b[0m\u001b[0md17\u001b[0m\u001b[0;34m)\u001b[0m\u001b[0;34m)\u001b[0m\u001b[0;34m:\u001b[0m\u001b[0;34m\u001b[0m\u001b[0;34m\u001b[0m\u001b[0m\n\u001b[1;32m     11\u001b[0m         \u001b[0;32mif\u001b[0m \u001b[0mx\u001b[0m \u001b[0;34m!=\u001b[0m \u001b[0my\u001b[0m\u001b[0;34m:\u001b[0m\u001b[0;34m\u001b[0m\u001b[0;34m\u001b[0m\u001b[0m\n\u001b[0;32m---> 12\u001b[0;31m             \u001b[0melast\u001b[0m\u001b[0;34m[\u001b[0m\u001b[0mx\u001b[0m\u001b[0;34m,\u001b[0m\u001b[0my\u001b[0m\u001b[0;34m]\u001b[0m \u001b[0;34m=\u001b[0m \u001b[0meoff\u001b[0m\u001b[0;34m[\u001b[0m\u001b[0my\u001b[0m\u001b[0;34m]\u001b[0m\u001b[0;34m\u001b[0m\u001b[0;34m\u001b[0m\u001b[0m\n\u001b[0m\u001b[1;32m     13\u001b[0m         \u001b[0;32melse\u001b[0m\u001b[0;34m:\u001b[0m\u001b[0;34m\u001b[0m\u001b[0;34m\u001b[0m\u001b[0m\n\u001b[1;32m     14\u001b[0m             \u001b[0mprint\u001b[0m\u001b[0;34m(\u001b[0m\u001b[0;34m\"no\"\u001b[0m\u001b[0;34m)\u001b[0m\u001b[0;34m\u001b[0m\u001b[0;34m\u001b[0m\u001b[0m\n",
      "\u001b[0;31mNameError\u001b[0m: name 'eoff' is not defined"
     ]
    }
   ],
   "source": [
    "# derivative of shares (elasticity matrix)\n",
    "pricevec = np.array(d17['Price'])\n",
    "\n",
    "def pguess(p):\n",
    "    ediag = alpha*p*(1-shares)\n",
    "    eoff = -alpha*p*shares\n",
    "    elast = np.diag(ediag)\n",
    "\n",
    "for x in range(len(d17)):\n",
    "    for y in range(len(d17)):\n",
    "        if x != y:\n",
    "            elast[x,y] = eoff[y]\n",
    "        else:\n",
    "            print(\"no\")\n"
   ]
  },
  {
   "cell_type": "code",
   "execution_count": 19,
   "metadata": {},
   "outputs": [
    {
     "name": "stdout",
     "output_type": "stream",
     "text": [
      "Test 1:  [0.25 0.25 0.25]\n",
      "Test 2:  [0.33333333 0.33333333 0.33333333]\n",
      "Test 3:  [0.25 0.25 0.25]\n",
      "Test 4:  [0.25101867 0.26129372 0.24152119]\n"
     ]
    }
   ],
   "source": [
    "# ------------------------\n",
    "#       Question 9\n",
    "# ------------------------\n",
    "\n",
    "# function calculating choice probabilities per individual\n",
    "def pchoose(uvec):\n",
    "    numerator = np.exp(uvec)\n",
    "    denominator = 1 + np.sum(numerator)\n",
    "    return np.divide(numerator, denominator)\n",
    "\n",
    "# function to calculate ubar per individual\n",
    "def umean(δ, σ, X, ζ, J):\n",
    "    util = np.add(δ.T, np.matmul(X*ζ, σ))\n",
    "    return np.array(util).reshape((1,J))\n",
    "\n",
    "# function to calculate shares\n",
    "def sHat(δ, X, σ, ζ, I,J):\n",
    "    \n",
    "    # compute individual choice probs\n",
    "    choices = np.zeros(I*J).reshape((I,J))\n",
    "    for i in range(I):\n",
    "        choices[i,:] = pchoose(umean(δ, σ, X, ζ[i,:], J))\n",
    "    \n",
    "    # integrating over zetas\n",
    "    share = np.mean(choices, axis=0)\n",
    "    return share\n",
    "    \n",
    "#### Test Cases ####\n",
    "Jtest = 3\n",
    "Itest = 20 \n",
    "\n",
    "# testing the function above (will take out later)\n",
    "Xvec = np.array(d17[['Price', 'EngineSize', 'SportsBike', 'Brand2', 'Brand3']])[0:Jtest,:]\n",
    "zeta = np.hstack((np.random.normal(0,1,2*20).reshape(20,2), np.zeros(20*3).reshape(20,3)))\n",
    "\n",
    "# Test case 1\n",
    "delta1 = np.full((1,Jtest), 0)\n",
    "sigma1 = np.array([0, 0, 0, 0, 0]).reshape((5,1))\n",
    "test1 = sHat(delta1, Xvec, sigma1, zeta, Itest, Jtest)\n",
    "\n",
    "# Test case 2\n",
    "delta2 = np.full((1,Jtest), 20).reshape(1,Jtest)\n",
    "delta2[0] = 40\n",
    "sigma2 = np.array([0, 0, 0, 0, 0]).reshape((5,1))\n",
    "test2 = sHat(delta2, Xvec, sigma2, zeta, Itest, Jtest)\n",
    "\n",
    "# Test case 3\n",
    "delta3 = np.full((1,Jtest), 0)\n",
    "sigma3 = np.array([.1, .1, 0, 0, 0]).reshape((5,1))\n",
    "Xvec3 = np.zeros(Jtest*5).reshape(Jtest,5)\n",
    "test3 = sHat(delta3, Xvec3, sigma3, zeta, Itest, Jtest)\n",
    "\n",
    "# Test case 4 (like 3 but with original values of X)\n",
    "test4 = sHat(delta3, Xvec, sigma3, zeta, Itest, Jtest)\n",
    "\n",
    "# Display all\n",
    "print(\"Test 1: \", test1)\n",
    "print(\"Test 2: \",test2)\n",
    "print(\"Test 3: \",test3)\n",
    "print(\"Test 4: \",test4)"
   ]
  },
  {
   "cell_type": "code",
   "execution_count": 24,
   "metadata": {},
   "outputs": [
    {
     "data": {
      "text/plain": [
       "(array([[0.39645191, 0.39645191, 0.39645191]]), 2)"
      ]
     },
     "execution_count": 24,
     "metadata": {},
     "output_type": "execute_result"
    }
   ],
   "source": [
    "# ------------------------\n",
    "#       Question 10\n",
    "# ------------------------\n",
    "\n",
    "# contraction mapping method\n",
    "def s_contraction(s, d_init, tol, X, I, J, σ, ζ):\n",
    "    diff = 1\n",
    "    d_new = d_init\n",
    "    counter = 1\n",
    "    s_hat = 1\n",
    "    while (diff > tol):\n",
    "        d_old = d_new\n",
    "        s_save = s_hat\n",
    "        s_hat = sHat(d_old, X, σ, ζ, I, J).reshape(1, d_old.shape[1])\n",
    "        d_new = np.add(d_old, (np.subtract(np.log(s),np.log(s_hat))))\n",
    "        #d_new = d_old + np.log(s) - np.log(s_hat)\n",
    "        diff = np.max(np.abs(np.subtract(d_new, d_old)))\n",
    "        #diff = np.max(np.abs(d_new - d_old))\n",
    "        counter += 1\n",
    "    return d_new, counter\n",
    "\n",
    "# testing the contraction mapping against test case 1 (it works!)\n",
    "shares = np.array([.25, .25, .25]).reshape(1,3)\n",
    "d_guess = np.array([.5, .5,.5]).reshape(1,3)\n",
    "tolerance = 1e-14\n",
    "\n",
    "s_contraction(shares, d_guess, .5, Xvec, Itest, Jtest, sigma1, zeta)\n"
   ]
  },
  {
   "cell_type": "code",
   "execution_count": 23,
   "metadata": {},
   "outputs": [
    {
     "name": "stderr",
     "output_type": "stream",
     "text": [
      "<ipython-input-21-0cdbf22e231d>:15: RuntimeWarning: divide by zero encountered in log\n",
      "  d_new = np.add(d_old, (np.subtract(np.log(s),np.log(s_hat))))\n",
      "<ipython-input-19-526a940beaee>:9: RuntimeWarning: invalid value encountered in true_divide\n",
      "  return np.divide(numerator, denominator)\n"
     ]
    },
    {
     "data": {
      "text/plain": [
       "array([[nan],\n",
       "       [nan],\n",
       "       [nan],\n",
       "       ...,\n",
       "       [nan],\n",
       "       [nan],\n",
       "       [nan]])"
      ]
     },
     "execution_count": 23,
     "metadata": {},
     "output_type": "execute_result"
    }
   ],
   "source": [
    "# ------------------------\n",
    "#       Question 11\n",
    "# ------------------------\n",
    "\n",
    "def objective(θ, I, J, X, Z, W, s, ζ, d_init, intol):\n",
    "    \n",
    "    # parsing theta\n",
    "    λ = θ[0:5].reshape(5,1)\n",
    "    σ = θ[5:].reshape(5,1)\n",
    "    \n",
    "    # getting an estimate of δ\n",
    "    d_star, cnt = s_contraction(s, d_init, intol, X, I, J, σ, ζ)\n",
    "    #d_star = np.array([1,2,3])\n",
    "    \n",
    "    # Plugging this in to get ξ\n",
    "    ξ = np.subtract(d_star.reshape(J,1), np.matmul(X, λ))\n",
    "    \n",
    "    # objective function\n",
    "    #bread = np.matmul(Z.T, ξ)\n",
    "    #return np.matmul(np.matmul(bread.T, W), bread)\n",
    "    return ξ\n",
    "\n",
    "# Test case\n",
    "Xvec_f = np.array(data[['Price', 'EngineSize', 'SportsBike', 'Brand2', 'Brand3']])\n",
    "Zvec_f = np.array(data[['z1', 'z2', 'z3', 'z4']])\n",
    "Ifull = 20\n",
    "Jfull = Xvec_f.shape[0]\n",
    "theta = np.array([0,0,0,0,0,0,0,0,0,0])\n",
    "weight = np.linalg.inv(np.matmul(Zvec_f.T, Zvec_f))\n",
    "shares_f = np.array(data[['shares']]).reshape(1, Jfull)\n",
    "d_guess_f = np.full((1,Jfull), 1)\n",
    "\n",
    "objective(theta, Ifull, Jfull, Xvec_f, Zvec_f, weight, shares_f, zeta, d_guess_f, tolerance)"
   ]
  },
  {
   "cell_type": "code",
   "execution_count": 165,
   "metadata": {},
   "outputs": [
    {
     "name": "stdout",
     "output_type": "stream",
     "text": [
      "(10,) (3, 5) (3, 4) (1, 3)\n"
     ]
    }
   ],
   "source": [
    "# ------------------------\n",
    "#       Question 12\n",
    "# ------------------------\n",
    "#print(theta, Ifull, Jfull, Xvec_f, Zvec_f, weight, shares_f, zeta, d_guess_f, tolerance)\n",
    "print(theta.shape, Xvec_f.shape, Zvec_f.shape, shares_f.shape)"
   ]
  },
  {
   "cell_type": "code",
   "execution_count": 19,
   "metadata": {},
   "outputs": [
    {
     "data": {
      "text/plain": [
       "(1, 1047)"
      ]
     },
     "execution_count": 19,
     "metadata": {},
     "output_type": "execute_result"
    }
   ],
   "source": [
    "d_guess_f.shape"
   ]
  },
  {
   "cell_type": "code",
   "execution_count": 80,
   "metadata": {},
   "outputs": [
    {
     "data": {
      "text/plain": [
       "array([[2, 3],\n",
       "       [4, 5]])"
      ]
     },
     "execution_count": 80,
     "metadata": {},
     "output_type": "execute_result"
    }
   ],
   "source": [
    "A = [[1,2], [3,4]]\n",
    "B = [[1,1], [1,1]]\n",
    "np.add(A,B)"
   ]
  },
  {
   "cell_type": "code",
   "execution_count": 101,
   "metadata": {},
   "outputs": [],
   "source": [
    "shares = np.array(data[['shares']]).reshape(1, Jtest)"
   ]
  },
  {
   "cell_type": "code",
   "execution_count": 20,
   "metadata": {},
   "outputs": [
    {
     "ename": "NameError",
     "evalue": "name 'J' is not defined",
     "output_type": "error",
     "traceback": [
      "\u001b[0;31m---------------------------------------------------------------------------\u001b[0m",
      "\u001b[0;31mNameError\u001b[0m                                 Traceback (most recent call last)",
      "\u001b[0;32m<ipython-input-20-11d7d7ce0b68>\u001b[0m in \u001b[0;36m<module>\u001b[0;34m\u001b[0m\n\u001b[0;32m----> 1\u001b[0;31m \u001b[0mJ\u001b[0m\u001b[0;34m\u001b[0m\u001b[0;34m\u001b[0m\u001b[0m\n\u001b[0m",
      "\u001b[0;31mNameError\u001b[0m: name 'J' is not defined"
     ]
    }
   ],
   "source": []
  },
  {
   "cell_type": "code",
   "execution_count": null,
   "metadata": {},
   "outputs": [],
   "source": []
  }
 ],
 "metadata": {
  "kernelspec": {
   "display_name": "Python 3",
   "language": "python",
   "name": "python3"
  },
  "language_info": {
   "codemirror_mode": {
    "name": "ipython",
    "version": 3
   },
   "file_extension": ".py",
   "mimetype": "text/x-python",
   "name": "python",
   "nbconvert_exporter": "python",
   "pygments_lexer": "ipython3",
   "version": "3.8.5"
  }
 },
 "nbformat": 4,
 "nbformat_minor": 4
}
