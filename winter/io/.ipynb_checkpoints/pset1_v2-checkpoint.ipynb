{
 "cells": [
  {
   "cell_type": "code",
   "execution_count": 3,
   "metadata": {},
   "outputs": [],
   "source": [
    "# importing packages\n",
    "import numpy as np\n",
    "import pandas as pd\n",
    "import sys\n",
    "import jax.numpy as jnp\n",
    "from jax import grad, jit, vmap\n",
    "from jax import random\n",
    "import jax\n",
    "\n",
    "np.random.seed(0)"
   ]
  },
  {
   "cell_type": "code",
   "execution_count": 4,
   "metadata": {},
   "outputs": [],
   "source": [
    "# read in data\n",
    "data = pd.read_csv(\"psetOne.csv\")"
   ]
  },
  {
   "cell_type": "code",
   "execution_count": 5,
   "metadata": {},
   "outputs": [],
   "source": [
    "\n",
    "# d17 data\n",
    "d17 = data[data['Market'] == 17].copy()\n"
   ]
  },
  {
   "cell_type": "code",
   "execution_count": 6,
   "metadata": {},
   "outputs": [],
   "source": [
    "# ------------------------\n",
    "#       Question 9\n",
    "# ------------------------\n",
    "\n",
    "# function calculating choice probabilities per individual\n",
    "def pchoose(uvec):\n",
    "    numerator = np.exp(uvec)\n",
    "    denominator = np.sum(numerator)\n",
    "    return numerator / (1+denominator)\n",
    "\n",
    "# function to calculate ubar per individual\n",
    "def umean2(δ, σ, X, ζ, J):\n",
    "    util = δ.T + np.dot(X*ζ, σ)\n",
    "    return np.array(util).reshape((1,J))\n",
    "\n",
    "def umean(δ, σ, X, ζ, J):\n",
    "    util = np.zeros(J)\n",
    "    for j in range(J):\n",
    "        util[j] = (δ[:,j] + np.dot(X[j,:], (ζ*σ.T).T))\n",
    "    return util\n",
    "\n",
    "#(delta1[:,1] + np.matmul(Xvec[2,:], zeta[1,:])* sigma1).T\n",
    "\n",
    "#np.matmul(Xvec[2,:], (zeta[1,:]* sigma1.T).T)\n"
   ]
  },
  {
   "cell_type": "code",
   "execution_count": 53,
   "metadata": {},
   "outputs": [
    {
     "name": "stdout",
     "output_type": "stream",
     "text": [
      "Test 1:  [0.125 0.125 0.125 0.125 0.125 0.125 0.125]\n",
      "Test 2:  [9.99999988e-01 2.06115360e-09 2.06115360e-09 2.06115360e-09\n",
      " 2.06115360e-09 2.06115360e-09 2.06115360e-09]\n",
      "Test 3:  [0.125 0.125 0.125 0.125 0.125 0.125 0.125]\n",
      "Test 4:  [0.12892683 0.1209922  0.12795971 0.12104593 0.1178922  0.11793726\n",
      " 0.116557  ]\n",
      "Test 5:  [0.54635036 0.07394048 0.07394048 0.07394048 0.07394048 0.07394048\n",
      " 0.07394048]\n"
     ]
    }
   ],
   "source": [
    "# function to calculate shares\n",
    "def sHat(δ, X, σ, ζ, I, J, full=\"no\"):\n",
    "    \n",
    "    # compute individual choice probs\n",
    "    choices = np.zeros(I*J).reshape((I,J))\n",
    "    for i in range(I):\n",
    "        choices[i,:] = pchoose(umean2(δ, σ, X, ζ[i,:], J))\n",
    "    \n",
    "    # integrating over zetas\n",
    "    share = (1/I)*np.sum(choices, axis=0)\n",
    "    \n",
    "    if full == \"full\":\n",
    "        return share, choices\n",
    "    else:\n",
    "        return share\n",
    "    \n",
    "#### Test Cases ####\n",
    "Jtest = 7\n",
    "Itest = 25\n",
    "\n",
    "# testing the function above (will take out later)\n",
    "Xvec = np.array(d17[['Price', 'EngineSize', 'Constant', 'SportsBike', 'Brand2', 'Brand3']])[0:Jtest,:]\n",
    "zeta = np.hstack((np.random.normal(0,1,2*Itest).reshape(Itest,2), np.zeros(4*Itest).reshape(Itest,4)))\n",
    "\n",
    "# Test case 1\n",
    "delta1 = np.full((1,Jtest), 0)\n",
    "sigma1 = np.array([0, 0, 0, 0, 0, 0]).reshape((6,1))\n",
    "test1 = sHat(delta1, Xvec, sigma1, zeta, 20, Jtest)\n",
    "\n",
    "# Test case 2\n",
    "delta2 = np.full((1,Jtest), 20)\n",
    "delta2[0,0] = 40\n",
    "sigma2 = np.array([0, 0, 0, 0, 0, 0]).reshape((6,1))\n",
    "test2 = sHat(delta2, Xvec, sigma2, zeta, Itest, Jtest)\n",
    "\n",
    "\n",
    "# Test case 3\n",
    "delta3 = np.full((1,Jtest), 0)\n",
    "sigma3 = np.array([.1, .1, 0, 0, 0, 0]).reshape((6,1))\n",
    "Xvec3 = np.zeros(Jtest*6).reshape(Jtest,6)\n",
    "test3 = sHat(delta3, Xvec3, sigma3, zeta, Itest, Jtest)\n",
    "\n",
    "# Test case 4 (like 3 but with original values of X)\n",
    "test4 = sHat(delta3, Xvec, sigma3, zeta, Itest, Jtest)\n",
    "\n",
    "# Test case 5 \n",
    "delta5 = np.full((1,Jtest), 2)\n",
    "delta5[0,0] = 4\n",
    "test5, probs_out = sHat(delta5, Xvec, sigma2, zeta, Itest, Jtest, \"full\")\n",
    "\n",
    "# Test case 6\n",
    "#delta6 = np.array([80.5, 80, 81]).reshape(1,3)\n",
    "#test6 = sHat(delta6, Xvec, sigma2, zeta, Itest, Jtest)\n",
    "\n",
    "# Display all\n",
    "print(\"Test 1: \", test1)\n",
    "print(\"Test 2: \",test2)\n",
    "print(\"Test 3: \",test3)\n",
    "print(\"Test 4: \",test4)\n",
    "print(\"Test 5: \", test5)\n",
    "#print(\"Test 6: \", test6)\n",
    "\n",
    "share_out = test5"
   ]
  },
  {
   "cell_type": "code",
   "execution_count": 55,
   "metadata": {},
   "outputs": [
    {
     "data": {
      "text/plain": [
       "(array([[4., 2., 2., 2., 2., 2., 2.]]), 2736, 9.769962616701378e-15)"
      ]
     },
     "execution_count": 55,
     "metadata": {},
     "output_type": "execute_result"
    }
   ],
   "source": [
    "# ------------------------\n",
    "#       Question 10\n",
    "# ------------------------\n",
    "\n",
    "# contraction mapping method\n",
    "def s_contraction(s, d_init, maxiter, tol, X, I, J, σ, ζ):\n",
    "    diff = 1\n",
    "    d_new = d_init\n",
    "    counter = 0\n",
    "    while (diff > tol and counter < maxiter):\n",
    "        d_old = d_new\n",
    "        s_hat = sHat(d_old, X, σ, ζ, I, J)\n",
    "        d_new = d_old + np.log(s) - np.log(s_hat)\n",
    "        diff = np.max(np.abs(d_new - d_old))\n",
    "        counter += 1\n",
    "        #if (counter % 50 == 0): # print every 50 iterations\n",
    "           # print(counter)\n",
    "    return d_new, counter, diff\n",
    "\n",
    "# testing the contraction mapping against test case 2\n",
    "shares = share_out\n",
    "d_guess = np.full((1, Jtest), .5)\n",
    "tolerance = 1e-14\n",
    "\n",
    "s_contraction(shares, d_guess, 10000, tolerance, Xvec, Itest, Jtest, sigma1, zeta)"
   ]
  },
  {
   "cell_type": "code",
   "execution_count": 56,
   "metadata": {},
   "outputs": [
    {
     "data": {
      "text/plain": [
       "array([[-3432.81452834]])"
      ]
     },
     "execution_count": 56,
     "metadata": {},
     "output_type": "execute_result"
    }
   ],
   "source": [
    "# ------------------------\n",
    "#       Question 11\n",
    "# ------------------------\n",
    "\n",
    "# parsing vector theta into parameters\n",
    "def parse_theta(θ):\n",
    "    λ = θ[0:6].reshape(6,1)\n",
    "    σ = θ[6:].reshape(6,1)\n",
    "    return λ, σ\n",
    "\n",
    "\n",
    "# function to calculate xi (making this modular since we need it for Q12)\n",
    "def get_xi(θ, I, J, X, s, ζ, d_init, intol, dreturn=\"no\"):\n",
    "    \n",
    "    # parse\n",
    "    λ, σ = parse_theta(θ)\n",
    "    \n",
    "    # getting an estimate of δ\n",
    "    d_star, cnt, diff = s_contraction(s, d_init, 1e20, intol, X, I, J, σ, ζ)\n",
    "    \n",
    "    # Plugging this in to get ξ\n",
    "    ξ = np.subtract(d_star.reshape(J,1), np.dot(X, λ))\n",
    "    if dreturn == \"dstar\":\n",
    "        return ξ, d_star\n",
    "    else:\n",
    "        return ξ\n",
    "\n",
    "\n",
    "def objective(θ, ξ, Z, W):\n",
    "    \n",
    "    # parsing theta\n",
    "    λ, σ = parse_theta(θ)\n",
    "    \n",
    "    # objective function\n",
    "    bread = np.dot(Z.T, ξ)\n",
    "    return np.dot(np.dot(bread.T, W), bread)\n",
    "\n",
    "# Test case\n",
    "inst = np.array(d17[['z1', 'z2', 'z3', 'z4']])[0:Jtest,:]\n",
    "Zvec = np.hstack((Xvec, inst))\n",
    "theta = np.array([0,0,0,0,0,0,0,0,0,0,0,0])\n",
    "weight = np.linalg.inv(np.dot(Zvec.T, Zvec))\n",
    "d_guess = np.full((1,Jtest), 1)\n",
    "d_guess2 = np.full((1,Jtest), .01)\n",
    "shares = np.array(data[['shares']])[0:Jtest,:].reshape(1, Jtest)\n",
    "intol_test = 1e-20\n",
    "\n",
    "xi_test = get_xi(theta, Itest, Jtest, Xvec, shares, zeta, d_guess, intol_test)\n",
    "xi_test2 = get_xi(theta, Itest, Jtest, Xvec, shares, zeta, d_guess2, intol_test)\n",
    "objective(theta, xi_test2, Zvec, weight)"
   ]
  },
  {
   "cell_type": "code",
   "execution_count": 63,
   "metadata": {},
   "outputs": [
    {
     "data": {
      "text/plain": [
       "array([[ -102.22605453],\n",
       "       [31520.43931467],\n",
       "       [    0.        ],\n",
       "       [    0.        ],\n",
       "       [    0.        ],\n",
       "       [    0.        ]])"
      ]
     },
     "execution_count": 63,
     "metadata": {},
     "output_type": "execute_result"
    }
   ],
   "source": [
    "# ------------------------\n",
    "#       Question 12\n",
    "# ------------------------\n",
    "\n",
    "# compute gradient\n",
    "def gradient(Jy, Z, W, ξ):\n",
    "    Jg = np.dot(Z.T, Jy)\n",
    "    g = np.dot(Z.T, ξ)\n",
    "    grad = 2*np.dot(np.dot(Jg.T, W), g)\n",
    "    return grad\n",
    "\n",
    "# compute xi jacobian    \n",
    "def jacobian_y(X, σ, λ, ζ, δ, I, J):\n",
    "    # get s_hat, choices\n",
    "    shat, choices = sHat(δ, X, σ, ζ, I, J, \"full\")\n",
    "    \n",
    "    # first compute J_xi\n",
    "    J_xi = np.diag((shat)*(1-shat))\n",
    "    for n in range(shat.size):\n",
    "        for j in range(shat.size):\n",
    "            if n != j:\n",
    "                J_xi[n,j] = -shat[n]*shat[j]\n",
    "            else: \n",
    "                pass\n",
    "\n",
    "    # second compute J_sigma\n",
    "    h_grad = np.zeros((J,J,I))\n",
    "    J_sig_i = np.zeros((J,Xvec.shape[1],I))\n",
    "    for i in range(I):\n",
    "        \n",
    "        # computing gradient of the h function\n",
    "        h_grad[:,:,i] = np.diag((choices[i,:]*(1-choices[i,:])).flatten())\n",
    "        for n in range(shat.size):\n",
    "            for j in range(shat.size):\n",
    "                if n != j:\n",
    "                    h_grad[n,j,i] = -choices[i,n]*choices[i,j]\n",
    "                else: \n",
    "                    pass\n",
    "        \n",
    "        # computing J_sigma_i for all individuals\n",
    "        J_sig_i[:,:,i] = np.dot(np.dot(h_grad[:,:,i], X), np.diag(ζ[i,:].flatten()))\n",
    "    \n",
    "    # averaging across individuals\n",
    "    J_sig = np.mean(J_sig_i, axis=2)\n",
    "    \n",
    "    # Final J_y\n",
    "    J_y = np.dot(np.linalg.inv(J_xi), J_sig)\n",
    "    \n",
    "    return J_y\n",
    "    \n",
    "    \n",
    "    \n",
    "lambda_test, throwaway = parse_theta(theta)\n",
    "jac_y_test = jacobian_y(Xvec, sigma1, lambda_test, zeta, delta3, Itest, Jtest)\n",
    "gradient(jac_y_test, Zvec, weight, xi_test)"
   ]
  },
  {
   "cell_type": "code",
   "execution_count": 280,
   "metadata": {},
   "outputs": [],
   "source": [
    "# checking against the automatic diff \n",
    "\n",
    "def minimizer(λ, σ):\n",
    "    θ = jnp.hstack((λ, σ))\n",
    "    return objective(θ, xi_test, Zvec, weight)[0,0]\n",
    "\n",
    "#derivative_fn = grad(minimizer)\n",
    "lambda_jnp = jnp.array([0.,0.,0.,0.,0., 0.])\n",
    "sigma_jnp = jnp.array([.1,.2,0.,0.,0.,0.])\n",
    "\n",
    "grad1_test = jax.grad(minimizer, argnums=1)(lambda_jnp, sigma_jnp)\n",
    "grad1_test"
   ]
  },
  {
   "cell_type": "code",
   "execution_count": 280,
   "metadata": {},
   "outputs": [
    {
     "data": {
      "text/plain": [
       "array([0., 0., 0., 0., 0., 0.], dtype=float32)"
      ]
     },
     "execution_count": 280,
     "metadata": {},
     "output_type": "execute_result"
    }
   ],
   "source": [
    "# ------------------------\n",
    "#       Question 13\n",
    "# ------------------------\n",
    "def gmm_optimize(θ_guess, X, Z, s, W, I, J, ζ, d_init, intol):\n",
    "   \n",
    "    # setting up important objects\n",
    "    ξ, d_star = get_xi(θ_guess, I, J, X, s, ζ, d_init, intol, \"dstar\")\n",
    "    λ_init, σ_init = parse_theta(θ_guess)\n",
    "    \n",
    "    # defining minimizers as fn only of σ\n",
    "    def minimizer(σ):\n",
    "        θ = np.hstack(λ_init, σ)\n",
    "        return objective(θ, ξ, Z, W)\n",
    "    \n",
    "    def min_gradient(σ):\n",
    "        return gradient(jacobian_y(X, σ, λ_init, ζ, d_star, I, J))\n",
    "    \n",
    "    # optimizing\n",
    "    σ_star = scipy.optimize.minimize(minimizer, np.ones((len(σ_init),1)), args=theta[6:], callback=min_gradient)\n",
    "    \n",
    "    # calculating λ_star\n",
    "    delta_final = np.dot(np.dot(X, zeta), σ_star)\n",
    "    bread1 = np.dot(X.T, Z)\n",
    "    term1 = np.linalg.inv(np.dot(np.dot(bread, W), bread.T))\n",
    "    term2 = np.dot(np.dot(np.dot(X.T, Z), W), Z.T)\n",
    "    λ_star = np.dot(np.dot(term1, term2), delta_final)\n",
    "    \n",
    "    return np.hstack((σ_star, λ_star))\n",
    "    \n",
    "    \n",
    "\n",
    "\n",
    "    \n",
    "    "
   ]
  }
 ],
 "metadata": {
  "kernelspec": {
   "display_name": "Python 3",
   "language": "python",
   "name": "python3"
  },
  "language_info": {
   "codemirror_mode": {
    "name": "ipython",
    "version": 3
   },
   "file_extension": ".py",
   "mimetype": "text/x-python",
   "name": "python",
   "nbconvert_exporter": "python",
   "pygments_lexer": "ipython3",
   "version": "3.8.5"
  }
 },
 "nbformat": 4,
 "nbformat_minor": 4
}
