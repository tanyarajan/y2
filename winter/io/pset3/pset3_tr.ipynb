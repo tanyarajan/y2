{
 "cells": [
  {
   "cell_type": "code",
   "execution_count": 5,
   "metadata": {},
   "outputs": [],
   "source": [
    "#-----------------------------------------\n",
    "# Problem Set 3: Descriptive Stats\n",
    "#   Tanya Rajan and George Vojta\n",
    "#\n",
    "#-----------------------------------------\n",
    "\n",
    "# importing packages\n",
    "import numpy as np\n",
    "import pandas as pd\n",
    "import scipy as sp\n",
    "from scipy.stats import gaussian_kde\n",
    "import matplotlib.pyplot as plt\n",
    "from mpl_toolkits import mplot3d\n",
    "import seaborn as sns\n",
    "import statsmodels.api as sm\n",
    "import statsmodels.formula.api as smf"
   ]
  },
  {
   "cell_type": "code",
   "execution_count": 7,
   "metadata": {},
   "outputs": [
    {
     "name": "stdout",
     "output_type": "stream",
     "text": [
      "4.319848464221509\n",
      "123.98234393640384\n"
     ]
    },
    {
     "data": {
      "text/plain": [
       "(array([357.,  59.,  12.,   7.,   8.,   1.,   0.,   2.,   0.,   1.]),\n",
       " array([   4.64385159,  159.82331254,  315.00277348,  470.18223443,\n",
       "         625.36169537,  780.54115632,  935.72061726, 1090.90007821,\n",
       "        1246.07953915, 1401.2590001 , 1556.43846104]),\n",
       " <BarContainer object of 10 artists>)"
      ]
     },
     "execution_count": 7,
     "metadata": {},
     "output_type": "execute_result"
    },
    {
     "data": {
      "image/png": "[encoded data removed]",
      "text/plain": [
       "<Figure size 432x288 with 1 Axes>"
      ]
     },
     "metadata": {
      "needs_background": "light"
     },
     "output_type": "display_data"
    }
   ],
   "source": [
    "# --------------------------------------\n",
    "#          Step 1: Find b-hat\n",
    "# --------------------------------------\n",
    "\n",
    "# load data\n",
    "df = pd.read_csv(\"data/ps3_clean.csv\")\n",
    "df.head()\n",
    "\n",
    "# preparing data for regression\n",
    "df['lnbid'] = np.log(df['bid'])\n",
    "df_exog = df.copy()\n",
    "df_exog.drop(['bidder', 'lnbid', 'bid', 'auction', 'ident', 'ringwin'], axis=1, inplace=True)\n",
    "\n",
    "# getting regression coefficients\n",
    "reg1 = sm.OLS(endog=df['lnbid'], exog=df_exog, missing='drop').fit()\n",
    "coefs = reg1.params[0:7]\n",
    "\n",
    "# predicting ln(bhat)\n",
    "xmat = np.array(df_exog[['cat_price', 'est_min', 'est_max', 'grademin', 'grademax', 'usonly', 'novalue']].copy())\n",
    "lnbhat = df['lnbid'] - xmat@coefs\n",
    "\n",
    "# put bhat back into our dataset\n",
    "print(np.mean(lnbhat))\n",
    "#bhat = bhat - np.mean(bhat)\n",
    "df[\"bhat\"] = np.exp(lnbhat)\n",
    "\n",
    "\n",
    "print(np.mean(df[\"bhat\"]))\n",
    "plt.hist(df[\"bhat\"])"
   ]
  },
  {
   "cell_type": "code",
   "execution_count": 8,
   "metadata": {},
   "outputs": [
    {
     "name": "stderr",
     "output_type": "stream",
     "text": [
      "<ipython-input-8-984dde2df8cc>:46: IntegrationWarning: The integral is probably divergent, or slowly convergent.\n",
      "  A = 1/sp.integrate.quad(A_fn, trimlow, trimhigh)[0]\n"
     ]
    }
   ],
   "source": [
    "# --------------------------------------\n",
    "#       Estimating Distributions\n",
    "# --------------------------------------\n",
    "# Note we omit Step 2 because we assume epsilon = 1\n",
    "\n",
    "# grid at which to eval\n",
    "grid_low = 0\n",
    "grid_high = 2000\n",
    "increment = 10000\n",
    "\n",
    "x_grid = np.linspace(grid_low, grid_high, increment)\n",
    "\n",
    "\n",
    "# function to calculate gaussian kernel\n",
    "def gkernel(x, grid, bandwidth=.1):\n",
    "    kde = gaussian_kde(x, bw_method = bandwidth / x.std(ddof=1))\n",
    "    return(kde.evaluate(grid))\n",
    "\n",
    "# find index\n",
    "def find_idx(b):\n",
    "    stepsize = (grid_high - grid_low)/increment\n",
    "    return(np.int((b - grid_low)/stepsize))\n",
    "\n",
    "# --------------------------------------\n",
    "#       Step 3: Selection Correction\n",
    "# --------------------------------------\n",
    "\n",
    "# observed distribution of target price when ring wins\n",
    "h_vec = df.loc[(df[\"ringwin\"] == 1) & (df[\"targetobs\"] == 1), \"bhat\"]\n",
    "hbar = gkernel(h_vec, x_grid)\n",
    "Hbar = np.cumsum(hbar)/np.sum(hbar)\n",
    "\n",
    "# observed maximum knockout bid distribution\n",
    "g_vec = df.loc[df[\"ident\"] == 0, \"bhat\"]\n",
    "gm = gkernel(g_vec, x_grid)\n",
    "Gm = np.cumsum(gm)/np.sum(gm)\n",
    "\n",
    "# calculating A\n",
    "def A_fn(x):\n",
    "    idx = find_idx(x)\n",
    "    return(hbar[idx]/(1 - Gm[idx]))\n",
    "\n",
    "trimlow = 5\n",
    "trimhigh = 1100\n",
    "\n",
    "A = 1/sp.integrate.quad(A_fn, trimlow, trimhigh)[0]\n",
    "\n",
    "# Calculating selection-corrected H functions\n",
    "lowidx = find_idx(trimlow)\n",
    "highidx = find_idx(trimhigh)\n",
    "\n",
    "hr = A*(hbar[lowidx:highidx]/(1-Gm[lowidx:highidx]))\n",
    "Hr = np.cumsum(hr)/np.sum(hr)\n",
    "\n"
   ]
  },
  {
   "cell_type": "code",
   "execution_count": 9,
   "metadata": {},
   "outputs": [
    {
     "data": {
      "text/plain": [
       "[<matplotlib.lines.Line2D at 0x11ffb1d90>]"
      ]
     },
     "execution_count": 9,
     "metadata": {},
     "output_type": "execute_result"
    },
    {
     "data": {
      "image/png": "[encoded data removed]",
      "text/plain": [
       "<Figure size 432x288 with 1 Axes>"
      ]
     },
     "metadata": {
      "needs_background": "light"
     },
     "output_type": "display_data"
    }
   ],
   "source": [
    "plt.plot(x_grid[lowidx:highidx], Hr)"
   ]
  },
  {
   "cell_type": "code",
   "execution_count": 12,
   "metadata": {},
   "outputs": [
    {
     "data": {
      "text/plain": [
       "[<matplotlib.lines.Line2D at 0x1234f05e0>]"
      ]
     },
     "execution_count": 12,
     "metadata": {},
     "output_type": "execute_result"
    },
    {
     "data": {
      "image/png": "[encoded data removed]",
      "text/plain": [
       "<Figure size 432x288 with 1 Axes>"
      ]
     },
     "metadata": {
      "needs_background": "light"
     },
     "output_type": "display_data"
    }
   ],
   "source": [
    "# ----------------------------------------\n",
    "#       Step 4: Empirical Distributions\n",
    "# ----------------------------------------\n",
    "\n",
    "# distributions for beta_1, beta_2, and r\n",
    "emp_dists = np.zeros((x_grid.size, 3))\n",
    "for i in range(3):\n",
    "    i_vec = df.loc[df[\"ident\"] == i, \"bhat\"]\n",
    "    emp_dists[:,i] = gkernel(i_vec, x_grid)\n",
    "    \n",
    "#plt.plot(x_grid, emp_dists[:,0])\n",
    "\n",
    "# distributions for each of the 11 bidders\n",
    "bid_dists = np.zeros((x_grid.size, 11))\n",
    "for i in range(11):\n",
    "    idx = i + 1\n",
    "    i_vec = df.loc[df[\"bidder\"] == idx, \"bhat\"]\n",
    "    if i_vec.size == 1:\n",
    "        xval = find_idx(np.mean(i_vec))\n",
    "        bid_dists[xval,i] = 1\n",
    "    else:\n",
    "        bid_dists[:,i] = gkernel(i_vec, x_grid)\n",
    "        \n",
    "bid_cdfs = np.cumsum(bid_dists, axis=0)/np.sum(bid_dists, axis=0)\n",
    "\n",
    "#plt.plot(x_grid, bid_dists[:,9])\n",
    "\n",
    "# construct alphas\n",
    "α = np.array(df.groupby(\"bidder\")[\"bid\"].count())\n",
    "α = α / df.loc[df[\"targetobs\"] == 0].shape[0]\n",
    "\n",
    "# construct others' distributions\n",
    "G_other = np.zeros((x_grid.size, 11))\n",
    "g_other = np.zeros((x_grid.size, 11))\n",
    "for i in range(11):\n",
    "    idxs = list(range(11))\n",
    "    idxs.pop(i)\n",
    "    bids_F = bid_cdfs[:,idxs]\n",
    "    bids_f = bid_dists[:,idxs]\n",
    "    alphas = α[idxs]\n",
    "    G_other[:,i] = (bids_F @ alphas) / np.sum(alphas)\n",
    "    g_other[:,i] = (bids_f @ alphas) / np.sum(alphas)\n",
    "    \n",
    "# put it together to get v_ik\n",
    "G_other = G_other[lowidx:highidx]\n",
    "g_other = g_other[lowidx:highidx]\n",
    "\n",
    "def construct_value(b, bidder):\n",
    "    idx = find_idx(b)\n",
    "    numerator = (1/2)*Hr[idx]*(1 - G_other[idx, bidder])\n",
    "    denom1 = hr[idx]*G_other[idx,bidder]\n",
    "    denom2 = Hr[idx]*g_other[idx,bidder]\n",
    "    #return(b - numerator/(denom1 + denom2))\n",
    "    return(b - numerator/(denom1 + denom2))\n",
    "\n",
    "\n",
    "hi = lambda b: construct_value(b, 10)\n",
    "hi2 = np.vectorize(hi)\n",
    "\n",
    "feed_bids = df.loc[df[\"targetobs\"] == 0, \"bhat\"]\n",
    "\n",
    "plt.plot(x_grid[10:100],hi2(x_grid[10:100]))"
   ]
  },
  {
   "cell_type": "code",
   "execution_count": 3,
   "metadata": {},
   "outputs": [
    {
     "ename": "NameError",
     "evalue": "name 'x_grid' is not defined",
     "output_type": "error",
     "traceback": [
      "\u001b[0;31m---------------------------------------------------------------------------\u001b[0m",
      "\u001b[0;31mNameError\u001b[0m                                 Traceback (most recent call last)",
      "\u001b[0;32m<ipython-input-3-09f01addaedd>\u001b[0m in \u001b[0;36m<module>\u001b[0;34m\u001b[0m\n\u001b[0;32m----> 1\u001b[0;31m \u001b[0mplt\u001b[0m\u001b[0;34m.\u001b[0m\u001b[0mplot\u001b[0m\u001b[0;34m(\u001b[0m\u001b[0mx_grid\u001b[0m\u001b[0;34m[\u001b[0m\u001b[0mlowidx\u001b[0m\u001b[0;34m:\u001b[0m\u001b[0mhighidx\u001b[0m\u001b[0;34m]\u001b[0m\u001b[0;34m,\u001b[0m \u001b[0mG_other\u001b[0m\u001b[0;34m[\u001b[0m\u001b[0;34m:\u001b[0m\u001b[0;34m,\u001b[0m\u001b[0;36m1\u001b[0m\u001b[0;34m]\u001b[0m\u001b[0;34m)\u001b[0m\u001b[0;34m\u001b[0m\u001b[0;34m\u001b[0m\u001b[0m\n\u001b[0m",
      "\u001b[0;31mNameError\u001b[0m: name 'x_grid' is not defined"
     ]
    }
   ],
   "source": [
    "plt.plot(x_grid[lowidx:highidx], G_other[:,1])"
   ]
  },
  {
   "cell_type": "code",
   "execution_count": 251,
   "metadata": {},
   "outputs": [
    {
     "data": {
      "text/plain": [
       "[<matplotlib.lines.Line2D at 0x12c5eb4c0>]"
      ]
     },
     "execution_count": 251,
     "metadata": {},
     "output_type": "execute_result"
    },
    {
     "data": {
      "image/png": "[encoded data removed]",
      "text/plain": [
       "<Figure size 432x288 with 1 Axes>"
      ]
     },
     "metadata": {
      "needs_background": "light"
     },
     "output_type": "display_data"
    }
   ],
   "source": [
    "plt.plot(x_grid[20:40], G_other[20:40,1])"
   ]
  },
  {
   "cell_type": "code",
   "execution_count": null,
   "metadata": {},
   "outputs": [],
   "source": []
  },
  {
   "cell_type": "code",
   "execution_count": null,
   "metadata": {},
   "outputs": [],
   "source": []
  }
 ],
 "metadata": {
  "kernelspec": {
   "display_name": "Python 3",
   "language": "python",
   "name": "python3"
  },
  "language_info": {
   "codemirror_mode": {
    "name": "ipython",
    "version": 3
   },
   "file_extension": ".py",
   "mimetype": "text/x-python",
   "name": "python",
   "nbconvert_exporter": "python",
   "pygments_lexer": "ipython3",
   "version": "3.8.5"
  }
 },
 "nbformat": 4,
 "nbformat_minor": 4
}
