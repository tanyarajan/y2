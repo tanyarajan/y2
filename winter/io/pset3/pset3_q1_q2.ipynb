{
 "cells": [
  {
   "cell_type": "code",
   "execution_count": 1,
   "metadata": {},
   "outputs": [],
   "source": [
    "#-----------------------------------------\n",
    "# Problem Set 3: Descriptive Stats\n",
    "#   Tanya Rajan and George Vojta\n",
    "#\n",
    "#-----------------------------------------\n",
    "\n",
    "# importing packages\n",
    "import numpy as np\n",
    "import pandas as pd\n",
    "import matplotlib.pyplot as plt\n",
    "from mpl_toolkits import mplot3d\n",
    "import seaborn as sns"
   ]
  },
  {
   "cell_type": "code",
   "execution_count": 25,
   "metadata": {},
   "outputs": [],
   "source": [
    "# ------------------------\n",
    "#     Question 1.2\n",
    "# ------------------------\n",
    "\n",
    "# load data\n",
    "df = pd.read_csv(\"ps3.csv\", skiprows=[0])\n",
    "\n",
    "# rename things\n",
    "df = df.rename(columns={\"Data Number\": \"id\", \"Net  Payment\": \"netpay\", \"realisation in final auAtion\": \"target_price\", \n",
    "                   \"Aatalog PriAe\": \"cat_price\", \"EstDate Min\": \"est_min\", \n",
    "                   \"EstDate Max\": \"est_max\", \"ExAlusively US\": \"usonly\"})"
   ]
  },
  {
   "cell_type": "code",
   "execution_count": 26,
   "metadata": {},
   "outputs": [],
   "source": [
    "# Replicating Table 1\n",
    "\n",
    "# creating price in knockout\n",
    "df[\"knock_price\"] = df[\"target_price\"] + df[\"profit\"]*2"
   ]
  },
  {
   "cell_type": "code",
   "execution_count": null,
   "metadata": {},
   "outputs": [],
   "source": []
  },
  {
   "cell_type": "code",
   "execution_count": null,
   "metadata": {},
   "outputs": [],
   "source": []
  }
 ],
 "metadata": {
  "kernelspec": {
   "display_name": "Python 3",
   "language": "python",
   "name": "python3"
  },
  "language_info": {
   "codemirror_mode": {
    "name": "ipython",
    "version": 3
   },
   "file_extension": ".py",
   "mimetype": "text/x-python",
   "name": "python",
   "nbconvert_exporter": "python",
   "pygments_lexer": "ipython3",
   "version": "3.8.5"
  }
 },
 "nbformat": 4,
 "nbformat_minor": 4
}
