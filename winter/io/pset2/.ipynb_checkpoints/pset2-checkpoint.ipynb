{
 "cells": [
  {
   "cell_type": "code",
   "execution_count": 240,
   "metadata": {},
   "outputs": [],
   "source": [
    "#-----------------------------------------\n",
    "# Problem Set 2: Static Entry Model\n",
    "#   Tanya Rajan and George Vojta\n",
    "#-----------------------------------------\n",
    "\n",
    "# importing packages\n",
    "import numpy as np\n",
    "import pandas as pd\n",
    "import sys\n",
    "import jax.numpy as jnp\n",
    "from jax import grad, jit, vmap\n",
    "from jax import random\n",
    "import jax\n",
    "import scipy\n",
    "from scipy.optimize import fsolve\n",
    "import timeit\n",
    "import matplotlib.pyplot as plt\n",
    "from mpl_toolkits import mplot3d\n",
    "from scipy.stats import logistic\n",
    "from scipy.stats import expon\n",
    "import seaborn as sns"
   ]
  },
  {
   "cell_type": "code",
   "execution_count": 297,
   "metadata": {},
   "outputs": [
    {
     "data": {
      "text/plain": [
       "array([[0.07072, 0.92928],\n",
       "       [0.5    , 0.5    ],\n",
       "       [0.92928, 0.07072]])"
      ]
     },
     "execution_count": 297,
     "metadata": {},
     "output_type": "execute_result"
    }
   ],
   "source": [
    "# ------------------------\n",
    "#     Question 1.3.2\n",
    "# ------------------------\n",
    "\n",
    "\n",
    "# Calculate jacobian for Newton's method\n",
    "def BNE_jac(p_init, α, δ, x):\n",
    "    inner1 = x*α - δ*p_init[1]\n",
    "    inner2 = x*α - δ*p_init[0]\n",
    "    J11 = -1\n",
    "    J12 = ((-δ * np.exp(x*α - δ*p_init[1]))/np.square(1 + np.exp(x*α - δ*p_init[1]))).item()\n",
    "    J21 = ((-δ * np.exp(x*α - δ*p_init[0]))/np.square(1 + np.exp(x*α - δ*p_init[0]))).item()\n",
    "    J22 = -1\n",
    "    J = np.array((J11, J12, J21, J22)).reshape(2,2)\n",
    "    \n",
    "    return J\n",
    "        \n",
    "#J_test = BNE_grad(p_test, 1,1, 1)\n",
    "\n",
    "# Objective function\n",
    "def BNE_obj(p_init, α, δ, x):\n",
    "    f1 =  np.exp(x*α - δ*p_init[1])/(1 + np.exp(x*α - δ*p_init[1])) - p_init[0]\n",
    "    f2 =  np.exp(x*α - δ*p_init[0])/(1 + np.exp(x*α - δ*p_init[0])) - p_init[1]\n",
    "    \n",
    "    # calculating p_it\n",
    "    return np.array([f1, f2])\n",
    "\n",
    "#f_test = BNE_obj(np.array((.2,.8)), 1,1, 1)\n",
    "#f_test\n",
    "\n",
    "\n",
    "# Using Newton's method to solve for BNE given start values \n",
    "def BNE_solver(p_init, α, δ, x, maxiter, tol):\n",
    "    counter = 1\n",
    "    diff = 1\n",
    "    p_new = p_init.reshape((2,1))\n",
    "    while (diff > tol and counter < maxiter):\n",
    "        # Newton's method\n",
    "        p_old = p_new\n",
    "        J = BNE_jac(p_old, α, δ, x)\n",
    "        f = BNE_obj(p_old, α, δ, x)\n",
    "        p_new = np.linalg.solve(J, J @ p_old - f)\n",
    "        #p_new = p_old - np.linalg.inv(J)@f\n",
    "        \n",
    "        # make sure new values are in the range of interest\n",
    "        p_new[p_new > 1] = 1\n",
    "        p_new[p_new < 0] = 0\n",
    "        \n",
    "        # compute difference\n",
    "        diff = np.max(np.abs(p_new - p_old))\n",
    "        counter += 1\n",
    "    return p_new.flatten()\n",
    "\n",
    "#p_test = np.array((.2, .01))\n",
    "#BNE_solver_mine(p_test, 1, 1, 1, 100000, 10e-20)\n",
    "\n",
    "\n",
    "# Find all Bayesian Nash eq (with option to keep only the symmetric Nash)\n",
    "# this is my hand-made Newton method. It is very slow. Use the function below for faster computation\n",
    "def BNE_findall_0(α, δ, x, maxiter=10000, tol=10e-12, sym=False):\n",
    "    # Grid search for multiple equilibria with different start values\n",
    "    looper = lambda p: BNE_solver(p, α, δ, x, maxiter, tol)\n",
    "    grid =  np.mgrid[0:1:1e-1, 0:1:1e-1].reshape(2,-1).T\n",
    "    sols = np.round(np.apply_along_axis(looper, 1, grid),6)\n",
    "    eqs = np.unique(sols, axis=0)\n",
    "    \n",
    "    # Find symmetric eq only \n",
    "    if sym == True:\n",
    "        return eqs[np.argmin(np.abs(eqs[:,0] - eqs[:,1])), :]\n",
    "    \n",
    "    return eqs\n",
    "\n",
    "# Find all Bayesian Nash eq using inbuilt solver (faster version)\n",
    "def BNE_findall(α, δ, x, sym=False):\n",
    "    # Grid search for multiple equilibria with different start values\n",
    "    bne_p = lambda p: BNE_obj(p, α, δ, x)\n",
    "    looper = lambda p0: fsolve(bne_p, p0)\n",
    "    grid =  np.mgrid[0:1:1e-1, 0:1:1e-1].reshape(2,-1).T\n",
    "    sols = np.round(np.apply_along_axis(looper, 1, grid),6)\n",
    "    eqs = np.unique(sols, axis=0)\n",
    "    \n",
    "    # Find symmetric eq only \n",
    "    if sym == True:\n",
    "        return eqs[np.argmin(np.abs(eqs[:,0] - eqs[:,1])), :]\n",
    "    \n",
    "    return eqs\n",
    "\n",
    "BNE_findall(3,6,1)"
   ]
  },
  {
   "cell_type": "code",
   "execution_count": 248,
   "metadata": {},
   "outputs": [
    {
     "name": "stdout",
     "output_type": "stream",
     "text": [
      "[0.5 0.5] [0.784577 0.784577]\n"
     ]
    }
   ],
   "source": [
    "# ------------------------\n",
    "#     Question 1.3.3\n",
    "# ------------------------\n",
    "\n",
    "# Set parameters\n",
    "α_set = 3\n",
    "δ_set = 6\n",
    "T = 1000\n",
    "S = 50\n",
    "np.random.seed(463)\n",
    "\n",
    "##### Simulate Data #####\n",
    "\n",
    "# Simulate epsilons and X\n",
    "ϵ1_sim = np.random.logistic(0, 1, T*S).reshape(T,S)\n",
    "ϵ2_sim = np.random.logistic(0, 1, T*S).reshape(T,S)\n",
    "x_sim = (np.random.binomial(1,.5, T*S) + 1).reshape(T,S)\n",
    "\n",
    "# function to find equilibria for each x value\n",
    "def findps(α, δ, sym=False):\n",
    "    p_x1 = BNE_findall(α, δ, 1, sym=sym)\n",
    "    p_x2 = BNE_findall(α, δ, 2, sym=sym)\n",
    "    return p_x1, p_x2\n",
    "\n",
    "# Calculating expectations of other firm's entry (symmetric)\n",
    "p_x1_sim, p_x2_sim = findps(α_set, δ_set, sym=True)\n",
    "probs_sim = np.zeros((T,S))\n",
    "probs_sim[x_sim == 1] = p_x1_sim[0]\n",
    "probs_sim[x_sim == 2] = p_x2_sim[0]\n",
    "print(p_x1_sim, p_x2_sim)\n",
    "\n",
    "# Calculating y\n",
    "y1u_sim = np.array((-δ_set*probs_sim + α_set*x_sim + ϵ1_sim >= 0)*1)\n",
    "y2u_sim = np.array((-δ_set*probs_sim + α_set*x_sim + ϵ2_sim >= 0)*1)\n"
   ]
  },
  {
   "cell_type": "code",
   "execution_count": 175,
   "metadata": {},
   "outputs": [
    {
     "data": {
      "text/plain": [
       "      fun: 1222.8532189387224\n",
       " hess_inv: array([[0.03947297, 0.09420798],\n",
       "       [0.09420798, 0.2308574 ]])\n",
       "      jac: array([ 1.22070312e-04, -3.05175781e-05])\n",
       "  message: 'Desired error not necessarily achieved due to precision loss.'\n",
       "     nfev: 54\n",
       "      nit: 14\n",
       "     njev: 18\n",
       "   status: 2\n",
       "  success: False\n",
       "        x: array([2.74713967, 5.49427905])"
      ]
     },
     "execution_count": 175,
     "metadata": {},
     "output_type": "execute_result"
    }
   ],
   "source": [
    "##### Log Likelihood #####\n",
    "\n",
    "# log lik function for symmetric eq\n",
    "def sym_lik(ω, y1, y2, x):\n",
    "    # parse ω\n",
    "    α = ω[0]\n",
    "    δ = ω[1]\n",
    "    \n",
    "    # calculating P's for each x value\n",
    "    probs = np.zeros((x.size))\n",
    "    p_x1, p_x2 = findps(α, δ, sym=True)\n",
    "    probs[x==1] = p_x1[0]\n",
    "    probs[x==2] = p_x2[0]\n",
    "    \n",
    "    # likelihood per market\n",
    "    gt =  δ*probs - α*x \n",
    "    loglik1 = y1*np.log(1-logistic.cdf(gt)) + (1-y1)*np.log(logistic.cdf(gt))\n",
    "    loglik2 = y2*np.log(1-logistic.cdf(gt)) + (1-y2)*np.log(logistic.cdf(gt))\n",
    "    loglik = loglik1 + loglik2\n",
    "    #loglik = y1*(probs) + (1-y1)*(1-probs)  + y2*probs +(1-y2)*(1-probs)  \n",
    "    \n",
    "    # summing\n",
    "    return -np.sum(loglik)\n",
    "\n",
    "#ω_test = np.array((1,1))\n",
    "#sym_lik(ω_test, np.array(1), np.array(0), np.array(1))\n",
    "#sym_grad(ω_test, y1u_sim[:,1], y2u_sim[:,1], x_sim[:,1])\n",
    "\n",
    "#k = 6\n",
    "#scipy.optimize.minimize(sym_lik, ω_test,jac=sym_grad, args=(y1u_sim[:,k], y2u_sim[:,k], x_sim[:,k]))\n",
    "scipy.optimize.minimize(sym_lik, ω_test,args=(y1u_sim[:,k], y2u_sim[:,k], x_sim[:,k]))\n"
   ]
  },
  {
   "cell_type": "code",
   "execution_count": 176,
   "metadata": {},
   "outputs": [
    {
     "name": "stdout",
     "output_type": "stream",
     "text": [
      "0\n",
      "5\n",
      "10\n",
      "15\n",
      "20\n",
      "25\n",
      "30\n",
      "35\n",
      "40\n",
      "45\n"
     ]
    }
   ],
   "source": [
    "testS = S\n",
    "outvec = np.zeros((testS, 2))\n",
    "for j in range(testS):\n",
    "    outvec[j,:] = scipy.optimize.minimize(sym_lik, ω_test,args=(y1u_sim[:,j], y2u_sim[:,j], x_sim[:,j])).x\n",
    "    if j % 5 == 0:\n",
    "        print(j)"
   ]
  },
  {
   "cell_type": "code",
   "execution_count": 184,
   "metadata": {},
   "outputs": [
    {
     "data": {
      "text/plain": [
       "Text(0.5, 1.0, 'Estimates of α')"
      ]
     },
     "execution_count": 184,
     "metadata": {},
     "output_type": "execute_result"
    },
    {
     "data": {
      "image/png": "[encoded data removed]",
      "text/plain": [
       "<Figure size 432x288 with 1 Axes>"
      ]
     },
     "metadata": {},
     "output_type": "display_data"
    }
   ],
   "source": [
    "sns.set_style('darkgrid')\n",
    "sns.histplot(outvec[:,0]).set_title(\"Estimates of α\")\n"
   ]
  },
  {
   "cell_type": "code",
   "execution_count": 183,
   "metadata": {},
   "outputs": [
    {
     "data": {
      "text/plain": [
       "Text(0.5, 1.0, 'Estimates of δ')"
      ]
     },
     "execution_count": 183,
     "metadata": {},
     "output_type": "execute_result"
    },
    {
     "data": {
      "image/png": "[encoded data removed]",
      "text/plain": [
       "<Figure size 432x288 with 1 Axes>"
      ]
     },
     "metadata": {},
     "output_type": "display_data"
    }
   ],
   "source": [
    "sns.set_style('darkgrid')\n",
    "sns.distplot(outvec[:,1]).set_title(\"Estimates of δ\")"
   ]
  },
  {
   "cell_type": "code",
   "execution_count": 363,
   "metadata": {},
   "outputs": [],
   "source": [
    "# ------------------------\n",
    "#     Question 1.3.4\n",
    "# ------------------------\n",
    "\n",
    "# Set parameters\n",
    "α_set = 3\n",
    "δ_set = 6\n",
    "T = 1000\n",
    "S = 50\n",
    "np.random.seed(463)\n",
    "\n",
    "##### Simulate Data #####\n",
    "\n",
    "# Calculating expectations of other firm's entry (all equilibria)\n",
    "pme_x1_sim, pme_x2_sim = findps(α_set, δ_set)\n",
    "dgp_neq = len(pme_x1_sim)\n",
    "pme_x_sim = [pme_x1_sim, pme_x2_sim]\n",
    "\n",
    "# Function to order equilibria\n",
    "def sorteq(eqs):\n",
    "    firmprobs = [i[0] for i in eqs]\n",
    "    eqidx = np.flip(np.argsort(firmprobs))\n",
    "    return [eqs[i] for i in eqidx]\n",
    "    \n",
    "# Function that returns probabilities for each firm given x\n",
    "def pickeq(x):\n",
    "    # find the possible equilibria\n",
    "    i = x - 1\n",
    "    eqs = pme_x_sim[i]\n",
    "    neq = eqs.shape[0]\n",
    "    ordered = sorteq(eqs)\n",
    "    \n",
    "    # assign eq probabilities and pick\n",
    "    k2vals = [(2/(i+1)) for i in range(dgp_neq)]\n",
    "    peq = expon.pdf(x, scale=k2vals)\n",
    "    choice = np.random.choice(range(neq), 1, p=(peq/np.sum(peq))).item()\n",
    "    \n",
    "    # find firm 1 and 2 probabilities for the equilibrium\n",
    "    px1 = ordered[choice][0]\n",
    "    px2 = ordered[choice][1]\n",
    "    return np.array((px1, px2))\n",
    "\n",
    "# Applying to all time periods to get firm probability data\n",
    "probs1_sim = np.zeros((T,S))\n",
    "probs2_sim = np.zeros((T,S))\n",
    "for t in range(T):\n",
    "    for s in range(S):\n",
    "        i = x_sim[t,s] - 1 \n",
    "        p1, p2 = pickeq(x_sim[t,s])\n",
    "        probs1_sim[t,s] = p1\n",
    "        probs2_sim[t,s] = p2\n",
    "        \n",
    "# Finally constructing ys\n",
    "y1me_sim = np.array((-δ_set*probs2_sim + α_set*x_sim + ϵ1_sim >= 0)*1)\n",
    "y2me_sim = np.array((-δ_set*probs1_sim + α_set*x_sim + ϵ2_sim >= 0)*1)"
   ]
  },
  {
   "cell_type": "code",
   "execution_count": 362,
   "metadata": {},
   "outputs": [
    {
     "name": "stdout",
     "output_type": "stream",
     "text": [
      "[[0.5      0.71179  0.92928  0.784577]\n",
      " [0.92928  0.784577 0.849318 0.784577]\n",
      " [0.849318 0.5      0.849318 0.5     ]\n",
      " [0.07072  0.849318 0.849318 0.92928 ]] [[0.5      0.849318 0.07072  0.784577]\n",
      " [0.07072  0.784577 0.71179  0.784577]\n",
      " [0.71179  0.5      0.71179  0.5     ]\n",
      " [0.92928  0.71179  0.71179  0.07072 ]]\n"
     ]
    }
   ],
   "source": [
    "##### Log likelihood multiple eqs #####\n"
   ]
  },
  {
   "cell_type": "code",
   "execution_count": 286,
   "metadata": {},
   "outputs": [
    {
     "data": {
      "text/plain": [
       "<matplotlib.contour.QuadContourSet at 0x12c3bb1c0>"
      ]
     },
     "execution_count": 286,
     "metadata": {},
     "output_type": "execute_result"
    },
    {
     "data": {
      "image/png": "[encoded data removed]",
      "text/plain": [
       "<Figure size 432x288 with 1 Axes>"
      ]
     },
     "metadata": {},
     "output_type": "display_data"
    }
   ],
   "source": [
    "# ------------------------\n",
    "#         Old Code\n",
    "# ------------------------\n",
    "##### Likelihood Troubleshooting\n",
    "# Plotting to see whether likelihood is well behaved... something is wrong\n",
    "\n",
    "# functions \n",
    "def plotfn_α(α):\n",
    "    ω = np.array((α, 6))\n",
    "    return sym_lik(ω, x_sim[:,1], y1u_sim[:,1], y2u_sim[:,1])\n",
    "\n",
    "def plotfn_δ(δ):\n",
    "    ω = np.array((3, δ))\n",
    "    return sym_lik(ω, x_sim[:,1], y1u_sim[:,1], y2u_sim[:,1])\n",
    "\n",
    "def plotfn(α, δ):\n",
    "    ω = np.array((α, δ))\n",
    "    return sym_lik(ω, x_sim[:,1], y1u_sim[:,1], y2u_sim[:,1])\n",
    "\n",
    "# vectorized functions\n",
    "v_α = np.vectorize(plotfn_α)\n",
    "v_δ = np.vectorize(plotfn_δ)\n",
    "v_all = np.vectorize(plotfn)\n",
    "\n",
    "# values to plot\n",
    "A = np.linspace(0, 10, 10)\n",
    "B = v_α(A)\n",
    "C = v_δ(A)\n",
    "G, H = np.meshgrid(A, A)\n",
    "D = v_all(G, H)\n",
    "\n",
    "# 2D plot holding one dimension fixed\n",
    "#plt.plot(A, B) \n",
    "#plt.plot(A, C)\n",
    "\n",
    "# 3D plot\n",
    "fig = plt.figure()\n",
    "ax = plt.axes(projection='3d')\n",
    "ax.contour3D(G, H, D, 50, cmap='binary')"
   ]
  },
  {
   "cell_type": "code",
   "execution_count": null,
   "metadata": {},
   "outputs": [],
   "source": [
    "# ------------------------\n",
    "#     Old Code - Ignore\n",
    "# ------------------------\n",
    "# Helper function to handle overflow\n",
    "def logSumExp(a, b):\n",
    "    m = np.max(b)\n",
    "    m = max(m, 0)\n",
    "    return m + np.log(np.exp(a-m) + np.exp(b-m))\n",
    "\n",
    "vlse = np.vectorize(logSumExp)\n",
    "vlse(1, np.array((1,2,3)))\n",
    "\n",
    "\n",
    "# Likelihood function\n",
    "def symmetric_lik(ω, x, y1, y2):\n",
    "    # parsing ω\n",
    "    α = ω[0]\n",
    "    δ = ω[1]\n",
    "\n",
    "    # solving for p\n",
    "    p_x1, p_x2 = findps(α, δ, sym=True)\n",
    "    probs1 = np.zeros((x.size, 1))\n",
    "    probs2 = np.zeros((x.size, 1))\n",
    "    probs1[x == 1] = p_x1[1]; probs1[x == 2] = p_x2[1] \n",
    "    probs2[x == 1] = p_x1[0]; probs2[x == 2] = p_x2[0]\n",
    "\n",
    "    # likelihood for each time period\n",
    "    loglik1 = y1*(α*x - δ*probs1 - logSumExp(0, α*x - δ*probs1)) + (1-y1)*(- logSumExp(0, α*x - δ*probs1)) \n",
    "    loglik2 = y2*(α*x - δ*probs2 - logSumExp(0, α*x - δ*probs2)) + (1-y2)*(- logSumExp(0, α*x - δ*probs2))\n",
    "    loglik = loglik1 + loglik2\n",
    "    \n",
    "    # summing\n",
    "    return -np.sum(loglik)\n",
    "\n",
    "symmetric_lik(ω_test, x_sim[:,1], y1u_sim[:,1], y2u_sim[:,1])\n",
    "\n",
    "\n",
    "# Gradient for likelihood fn\n",
    "def symmetric_grad(ω, x, y1, y2):\n",
    "    # parsing ω\n",
    "    α = ω[0]\n",
    "    δ = ω[1]\n",
    "\n",
    "    # solving for p\n",
    "    p_x1, p_x2 = findps(α, δ, sym=True)\n",
    "    probs1 = np.zeros((x.size, 1))\n",
    "    probs2 = np.zeros((x.size, 1))\n",
    "    probs1[x == 1] = p_x1[1]; probs1[x == 2] = p_x2[1] \n",
    "    probs2[x == 1] = p_x1[0]; probs2[x == 2] = p_x2[0]\n",
    "\n",
    "    # scores for each time period\n",
    "    g_1t = δ*probs1 - α*x\n",
    "    g_2t = δ*probs2 - α*x\n",
    "    score_α = (2*y1)*x/(1 + np.exp(g_1t)) + (2*y2)*x/(1 + np.exp(g_2t))\n",
    "    score_δ = (2*y1)*probs1/(1 + np.exp(g_1t)) + (2*y2)*probs2/(1 + np.exp(g_2t))\n",
    "    \n",
    "    # summing\n",
    "    return np.array((np.sum(score_α), np.sum(score_δ)))\n",
    "\n",
    "\n",
    "ω_test = np.array((1,1))\n",
    "#scipy.optimize.minimize(symmetric_lik, ω_test, args=(x_sim[:,2], y1u_sim[:,2], y2u_sim[:,2]), jac=symmetric_grad, method='BFGS', options={\"xtol\":1e-12})\n",
    "scipy.optimize.minimize(symmetric_lik, ω_test, args=(x_sim[:,2], y1u_sim[:,2], y2u_sim[:,2]))\n",
    "\n",
    "\n",
    "\n",
    "\n",
    "# gradient function for symmetric eq\n",
    "def sym_grad(ω, y1, y2, x):\n",
    "    # parse ω\n",
    "    α = ω[0]\n",
    "    δ = ω[1]\n",
    "    \n",
    "    # calculating P's for each x value\n",
    "    probs = np.zeros((x.size))\n",
    "    p_x1, p_x2 = findps(α, δ, sym=True)\n",
    "    probs[x==1] = p_x1[0]\n",
    "    probs[x==2] = p_x2[0]\n",
    "    \n",
    "    # likelihood per market\n",
    "    gt =  δ*probs - α*x\n",
    "    score_α = (2*y1 + 1)*x * logistic.cdf(gt) + (2*y2 + 1)*x * logistic.cdf(gt)\n",
    "    score_δ = -(2*y1 + 1)*probs * logistic.cdf(gt) -(2*y2 + 1)*probs * logistic.cdf(gt)\n",
    "    \n",
    "    # summing\n",
    "    return np.array((-np.sum(score_α), -np.sum(score_δ)))\n",
    "\n",
    "\n",
    "# loop through all sims and plot\n",
    "mcloop = lambda z: scipy.optimize.minimize(sym_lik, ω_test,args=(x_sim[:,z], y1u_sim[:,z], y2u_sim[:,z])).x\n",
    "outvec = np.zeros((S, 2))\n",
    "for k in range(S):\n",
    "    outvec[k,:] = mcloop(k)\n",
    "    \n",
    "    \n",
    "    \n",
    "# Applying to all time periods to get firm probability data\n",
    "allpicks1 = lambda x: pickeq(dgp_neq, x, p1=True)\n",
    "allpicks2 = lambda x: pickeq(dgp_neq, x, p1=False)\n",
    "list_eqprobs1 = np.vectorize(allpicks1)\n",
    "list_eqprobs2 = np.vectorize(allpicks2)\n",
    "\n",
    "probs1 = list_eqprobs1(x_sim)\n",
    "probs2 = list_eqprobs2(x_sim)\n",
    "\n"
   ]
  }
 ],
 "metadata": {
  "kernelspec": {
   "display_name": "Python 3",
   "language": "python",
   "name": "python3"
  },
  "language_info": {
   "codemirror_mode": {
    "name": "ipython",
    "version": 3
   },
   "file_extension": ".py",
   "mimetype": "text/x-python",
   "name": "python",
   "nbconvert_exporter": "python",
   "pygments_lexer": "ipython3",
   "version": "3.8.5"
  }
 },
 "nbformat": 4,
 "nbformat_minor": 4
}
