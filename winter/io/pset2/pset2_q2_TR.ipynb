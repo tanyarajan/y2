{
 "cells": [
  {
   "cell_type": "code",
   "execution_count": 1,
   "metadata": {},
   "outputs": [],
   "source": [
    "#-----------------------------------------\n",
    "# Problem Set 2: Static Entry Model\n",
    "#   Tanya Rajan and George Vojta\n",
    "#-----------------------------------------\n",
    "\n",
    "# importing packages\n",
    "import numpy as np\n",
    "import pandas as pd\n",
    "import scipy\n",
    "from scipy.optimize import fsolve\n",
    "from scipy.stats import logistic\n",
    "from scipy.stats import expon\n",
    "from scipy.special import expit\n",
    "import matplotlib.pyplot as plt\n",
    "from mpl_toolkits import mplot3d\n",
    "import seaborn as sns"
   ]
  },
  {
   "cell_type": "code",
   "execution_count": 2,
   "metadata": {},
   "outputs": [
    {
     "name": "stdout",
     "output_type": "stream",
     "text": [
      "% Periods replaced:  8.16\n"
     ]
    },
    {
     "data": {
      "text/plain": [
       "<AxesSubplot:ylabel='Frequency'>"
      ]
     },
     "execution_count": 2,
     "metadata": {},
     "output_type": "execute_result"
    },
    {
     "data": {
      "image/png": "[encoded data removed]",
      "text/plain": [
       "<Figure size 432x288 with 1 Axes>"
      ]
     },
     "metadata": {
      "needs_background": "light"
     },
     "output_type": "display_data"
    }
   ],
   "source": [
    "# ------------------------\n",
    "#     Question 2.3\n",
    "# ------------------------\n",
    "\n",
    "# load data\n",
    "df = pd.read_csv(\"psetTwo.csv\")\n",
    "\n",
    "# generating replacement variable\n",
    "df['mlag'] = df['milage'].shift()\n",
    "df['mlead'] = df['milage'].shift(-1)\n",
    "df['d'] = (df['mlead'] - df['milage'] < 0)*1\n",
    "print(\"% Periods replaced: \", np.mean(df['d'])*100)\n",
    "\n",
    "# generating\n",
    "df['diff'] = df['mlead'] - df['milage']\n",
    "df.loc[df['d']==1, 'diff'] = df['mlead']\n",
    "df['milage'].plot.hist(grid=True, bins=30, rwidth=0.9)"
   ]
  },
  {
   "cell_type": "code",
   "execution_count": 3,
   "metadata": {},
   "outputs": [
    {
     "data": {
      "text/plain": [
       "<AxesSubplot:ylabel='Frequency'>"
      ]
     },
     "execution_count": 3,
     "metadata": {},
     "output_type": "execute_result"
    },
    {
     "data": {
      "image/png": "[encoded data removed]",
      "text/plain": [
       "<Figure size 432x288 with 1 Axes>"
      ]
     },
     "metadata": {
      "needs_background": "light"
     },
     "output_type": "display_data"
    }
   ],
   "source": [
    "df['diff'].plot.hist(grid=True, bins=30, rwidth=0.9)"
   ]
  },
  {
   "cell_type": "code",
   "execution_count": 4,
   "metadata": {},
   "outputs": [],
   "source": [
    "###### Discretizing the Domain ######\n",
    "\n",
    "# Binning and setup\n",
    "K = 10\n",
    "df['bins'] = pd.cut(df['milage'], K, labels=range(K), include_lowest=True)\n",
    "df['bins_lead'] = df['bins'].shift(-1)\n",
    "df0 = df[df['d']==0].copy()\n",
    "df1 = df[df['d']==1].copy()\n",
    "\n",
    "# Constructing p matrix\n",
    "F0 = np.zeros((K,K))\n",
    "for i in range(K):\n",
    "    for j in range(K):\n",
    "        F0[i,j] = len(df[(df['bins'] == i)  & (df['bins_lead'] == j)])/len(df[df['bins'] == i])\n",
    "\n",
    "F0[0,:] = F0[0,:]/np.sum(F0[0,:]) \n",
    "\n",
    "# All bin intervals\n",
    "all_bins = pd.cut(df['milage'], K, include_lowest=True).unique()"
   ]
  },
  {
   "cell_type": "code",
   "execution_count": 14,
   "metadata": {},
   "outputs": [
    {
     "data": {
      "text/plain": [
       "(array([ -119.17772042,  -342.312     ,  -566.272     ,  -792.168     ,\n",
       "        -1020.        , -1249.768     , -1481.472     , -1715.112     ,\n",
       "        -1950.688     , -2188.2       ]),\n",
       " -30)"
      ]
     },
     "execution_count": 14,
     "metadata": {},
     "output_type": "execute_result"
    }
   ],
   "source": [
    "# ------------------------\n",
    "#       Inner Loop\n",
    "# ------------------------\n",
    "\n",
    "# bin number to mileage (returns midpoint)\n",
    "def bin2mile(b):\n",
    "    return((all_bins[b].left + all_bins[b].right)/2)\n",
    "b2m = np.vectorize(bin2mile)\n",
    "\n",
    "    \n",
    "# calculate u_j for j = 1, 2\n",
    "def calc_u(θ, β, b):\n",
    "    θ1, θ2, θ3 = θ\n",
    "    x = b2m(b)\n",
    "    #x=b\n",
    "    u0 = -θ1*x - θ2*np.power((x/100), 2)\n",
    "    u1 = -θ3\n",
    "    return u0, u1\n",
    "\n",
    "test_bins = np.array((0,1,2,3,4,5,6,7,8,9))\n",
    "test_theta = np.array((10,20,30))\n",
    "\n",
    "calc_u(test_theta, .999, test_bins)"
   ]
  },
  {
   "cell_type": "code",
   "execution_count": 15,
   "metadata": {},
   "outputs": [
    {
     "data": {
      "text/plain": [
       "array([0.89643255, 0.7628195 , 0.54443248, 0.30750706, 0.14163209,\n",
       "       0.0577689 , 0.0222742 , 0.00839407, 0.00313558, 0.00116741])"
      ]
     },
     "execution_count": 15,
     "metadata": {},
     "output_type": "execute_result"
    }
   ],
   "source": [
    "# pk function (probability of replacing)\n",
    "def pk(θ, β, b, ev):\n",
    "    # setup\n",
    "    u0, u1 = calc_u(θ, β, b)\n",
    "    \n",
    "    # pk function\n",
    "    v0 = u0 + β*ev\n",
    "    v1 = u1 + β*ev[0]\n",
    "    return expit(v1 - v0)\n",
    "\n",
    "#test_ev = np.array((1, 2, 1, .5, .2, .5, .1, .3, 1, .3))\n",
    "test_ev = np.array((1,2,3,4,5,6,7,8,9,10))\n",
    "test_pk = pk(np.array((.01,.02,.03)), .99, 9, test_ev)\n",
    "test_pk"
   ]
  },
  {
   "cell_type": "code",
   "execution_count": 34,
   "metadata": {},
   "outputs": [
    {
     "data": {
      "text/plain": [
       "array([-5.94228625, -5.20229334, -4.30643121, -3.50366467, -2.91041854,\n",
       "       -2.46841326, -2.38280346, -2.53521971, -1.98935082, -5.0957919 ])"
      ]
     },
     "execution_count": 34,
     "metadata": {},
     "output_type": "execute_result"
    }
   ],
   "source": [
    "# expected value equation\n",
    "def G_obj(ev, θ, β, b, pmat):\n",
    "    # setup\n",
    "    u0, u1 = calc_u(θ, β, b)\n",
    "    v0 = u0 + β*ev\n",
    "    v1 = u1 + β*ev[0]\n",
    "    vmax = np.maximum(v0, v1)\n",
    "    \n",
    "    # recentered EV function\n",
    "    ev = pmat@(vmax + np.log(np.exp(v1 - vmax) + np.exp(v0 - vmax)))\n",
    "    return ev\n",
    "test_bins = np.array((0,1,2,3,4,5,6,7,8,9))\n",
    "#test_ev = np.array((1, 2, 1, .5, .2, .5, .1, .3, 1, .3))\n",
    "test_ev = np.array((1,2,3,4,5,6,7,8,9, 10))\n",
    "G_obj(test_ev, np.array((.00358499936,1.59417885,8.2906255)), .999, 9, F0)"
   ]
  },
  {
   "cell_type": "code",
   "execution_count": 17,
   "metadata": {},
   "outputs": [],
   "source": [
    "# expected value jacobian\n",
    "def G_jac(ev, θ, β, x, pmat):\n",
    "    pkvec = pk(θ, β, x, ev)\n",
    "    \n",
    "    # derivative matrix\n",
    "    k = pmat.shape[0]\n",
    "    deriv = np.zeros((k,k))\n",
    "    for i in range(k):\n",
    "        deriv[i, 0] = pkvec[0]\n",
    "        deriv[i, i] = 1-pkvec[i]\n",
    "    deriv[0,:] = np.zeros(ev.size)\n",
    "    deriv[0,0] = 1\n",
    "    \n",
    "    # multiply\n",
    "    return(β*pmat@deriv)\n",
    "\n",
    "test_bins = np.array((0,1,2,3,4,5,6,7,8,9))\n",
    "#test_ev = np.array((1, 2, 1, .5, .2, .5, .1, .3, 1, .3))\n",
    "test_ev = np.array((1,2,3,4,5,6,7,8,9, 10))\n",
    "#G_jac(test_ev, np.array((.01,.02,.03)), .999, test_bins, F0)"
   ]
  },
  {
   "cell_type": "code",
   "execution_count": 35,
   "metadata": {},
   "outputs": [
    {
     "name": "stdout",
     "output_type": "stream",
     "text": [
      "100 1.0670145808609561 1584 1e-19\n"
     ]
    },
    {
     "data": {
      "text/plain": [
       "array([-1172.97679403, -1174.92250176, -1176.54330509, -1177.2889374 ,\n",
       "       -1177.38443252, -1177.24856985, -1176.69332113, -1176.04896543,\n",
       "       -1175.97675726, -1172.89676057])"
      ]
     },
     "execution_count": 35,
     "metadata": {},
     "output_type": "execute_result"
    }
   ],
   "source": [
    "# Rust Poly algorithm\n",
    "def RustPoly(evguess, θ, β, x, pmat, tol1, imax1, tol2, imax2):\n",
    "    # setup\n",
    "    u0, u1 = calc_u(θ, β, x)\n",
    "    \n",
    "    # Step 1: Iteration\n",
    "    count1 = 1\n",
    "    ev_new = evguess\n",
    "    diff1 = 1\n",
    "    while (diff1 > tol1) and (count1 < imax1):\n",
    "        ev_old = ev_new\n",
    "        ev_new = G_obj(ev_old, θ, β, x, pmat)\n",
    "        diff1 = np.max(np.abs(ev_new - ev_old))\n",
    "        count1 += 1\n",
    "        \n",
    "    # Step 2: Newton Kantorovich\n",
    "    count2 = 1\n",
    "    evnk_new = ev_new\n",
    "    diff2 = 1\n",
    "    while (diff2 > tol2) and (count2 < imax2):\n",
    "        evnk_old = evnk_new\n",
    "        J = G_jac(evnk_old, θ, β, x, pmat)\n",
    "        G = G_obj(evnk_old, θ, β, x, pmat)\n",
    "        Gprime_inv = np.linalg.inv(np.eye(J.shape[0]) - J)\n",
    "        evnk_new = evnk_old - Gprime_inv@(evnk_old - G)\n",
    "        diff2 = np.max(np.abs(evnk_new - evnk_old))\n",
    "        count2 += 1\n",
    "        \n",
    "    print(count1, diff1, count2, tol2)\n",
    "    return evnk_new\n",
    "\n",
    "test_bins = np.array((0,1,2,3,4,5,6,7,8,9))\n",
    "test_ev = np.array((1, 2, 1, .5, .2, .5, .1, .3, 1, .3))\n",
    "#test_ev = np.array((1,2,3,4,5,6,7,8,9, 10))\n",
    "RustPoly(test_ev, np.array((.00358499936,1.59417885,8.2906255)), .999, test_bins, F0, 10e-6, 100, 10e-20, 10000)"
   ]
  },
  {
   "cell_type": "code",
   "execution_count": 21,
   "metadata": {},
   "outputs": [
    {
     "name": "stdout",
     "output_type": "stream",
     "text": [
      "100 0.6267485655390459 64 1e-29\n",
      "3465.735902799727\n",
      "100 0.5019554817192713 1963 1e-29\n",
      "5624.868783184304\n",
      "100 0.5019553345138519 1937 1e-29\n",
      "5624.872276427979\n",
      "100 0.5019554812030051 1929 1e-29\n",
      "5624.868817457675\n",
      "100 0.5019554737543714 1932 1e-29\n",
      "5624.868744246209\n",
      "100 62.00693591932486 16 1e-29\n",
      "97248.43672950144\n",
      "100 62.0069349951973 10000 1e-29\n",
      "97248.43528036278\n",
      "100 62.00693591062736 10000 1e-29\n",
      "97248.43670412716\n",
      "100 62.00693591932395 168 1e-29\n",
      "97248.43673558027\n",
      "100 12.978427608213224 10000 1e-29\n",
      "inf\n"
     ]
    },
    {
     "name": "stderr",
     "output_type": "stream",
     "text": [
      "<ipython-input-21-4547ec256de3>:13: RuntimeWarning: divide by zero encountered in log\n",
      "  lik = d*np.log(pkvec[x]) + (1-d)*np.log(1-pkvec[x])\n"
     ]
    },
    {
     "name": "stdout",
     "output_type": "stream",
     "text": [
      "100 12.978426686043804 10000 1e-29\n",
      "inf\n"
     ]
    },
    {
     "name": "stderr",
     "output_type": "stream",
     "text": [
      "/Users/tanyarajan/anaconda3/lib/python3.8/site-packages/scipy/optimize/_numdiff.py:497: RuntimeWarning: invalid value encountered in subtract\n",
      "  df = fun(x) - f0\n"
     ]
    },
    {
     "name": "stdout",
     "output_type": "stream",
     "text": [
      "100 12.978427599518454 10000 1e-29\n",
      "inf\n",
      "100 12.978427608048605 10000 1e-29\n",
      "inf\n",
      "100 0.5019554817192713 1963 1e-29\n",
      "5624.868783184304\n",
      "100 0.5019553345138519 1937 1e-29\n",
      "5624.872276427979\n",
      "100 0.5019554812030051 1929 1e-29\n",
      "5624.868817457675\n",
      "100 0.5019554737543714 1932 1e-29\n",
      "5624.868744246209\n",
      "100 62.00693591932486 16 1e-29\n",
      "97248.43672950144\n",
      "100 21.953795221932978 10000 1e-29\n",
      "inf\n"
     ]
    },
    {
     "name": "stderr",
     "output_type": "stream",
     "text": [
      "<ipython-input-21-4547ec256de3>:13: RuntimeWarning: divide by zero encountered in log\n",
      "  lik = d*np.log(pkvec[x]) + (1-d)*np.log(1-pkvec[x])\n"
     ]
    },
    {
     "name": "stdout",
     "output_type": "stream",
     "text": [
      "100 10.678732847408583 10000 1e-29\n",
      "inf\n",
      "100 5.06263625923566 10000 1e-29\n",
      "111040.23137196168\n",
      "100 2.2693528633740243 10000 1e-29\n",
      "21219.893391218215\n",
      "100 0.6316905335454805 10000 1e-29\n",
      "3994.8388155651865\n",
      "100 0.6316903035441896 10000 1e-29\n",
      "3994.836562500748\n",
      "100 0.6316905324871698 10000 1e-29\n",
      "3994.838784682057\n",
      "100 0.6316905269206217 10000 1e-29\n",
      "3994.8387945901104\n",
      "100 0.03857431372254183 2018 1e-29\n",
      "1819.912645642819\n",
      "100 0.038573863079904847 2019 1e-29\n",
      "1819.9142214848225\n",
      "100 0.03857431105931575 2023 1e-29\n",
      "1819.9126631681706\n",
      "100 0.03857431072878992 2083 1e-29\n",
      "1819.912633953585\n",
      "100 7.563764066210979 10000 1e-29\n",
      "inf\n"
     ]
    },
    {
     "name": "stderr",
     "output_type": "stream",
     "text": [
      "<ipython-input-21-4547ec256de3>:13: RuntimeWarning: divide by zero encountered in log\n",
      "  lik = d*np.log(pkvec[x]) + (1-d)*np.log(1-pkvec[x])\n"
     ]
    },
    {
     "name": "stdout",
     "output_type": "stream",
     "text": [
      "100 7.5637649468006884 10000 1e-29\n",
      "inf\n"
     ]
    },
    {
     "name": "stderr",
     "output_type": "stream",
     "text": [
      "/Users/tanyarajan/anaconda3/lib/python3.8/site-packages/scipy/optimize/_numdiff.py:497: RuntimeWarning: invalid value encountered in subtract\n",
      "  df = fun(x) - f0\n"
     ]
    },
    {
     "name": "stdout",
     "output_type": "stream",
     "text": [
      "100 7.5637640744583905 10000 1e-29\n",
      "inf\n",
      "100 7.5637640665585195 10000 1e-29\n",
      "inf\n",
      "100 0.03857431372254183 2018 1e-29\n",
      "1819.912645642819\n",
      "100 0.038573863079904847 2019 1e-29\n",
      "1819.9142214848225\n",
      "100 0.03857431105931575 2023 1e-29\n",
      "1819.9126631681706\n",
      "100 0.03857431072878992 2083 1e-29\n",
      "1819.912633953585\n",
      "100 7.563764066210979 10000 1e-29\n",
      "inf\n"
     ]
    },
    {
     "name": "stderr",
     "output_type": "stream",
     "text": [
      "<ipython-input-21-4547ec256de3>:13: RuntimeWarning: divide by zero encountered in log\n",
      "  lik = d*np.log(pkvec[x]) + (1-d)*np.log(1-pkvec[x])\n"
     ]
    },
    {
     "name": "stdout",
     "output_type": "stream",
     "text": [
      "100 3.8816362045176334 10000 1e-29\n",
      "inf\n",
      "100 2.0299151181214086 10000 1e-29\n",
      "inf\n",
      "100 1.0799695629804233 10000 1e-29\n",
      "inf\n",
      "100 0.5687301394485189 1806 1e-29\n",
      "2436.801863769194\n",
      "100 0.06216970525451959 2166 1e-29\n",
      "1794.879909808769\n",
      "100 0.062170159859276986 2113 1e-29\n",
      "1794.8813084423155\n",
      "100 0.06216970801822086 10000 1e-29\n",
      "1794.8799240942603\n",
      "100 0.062169708247245214 2185 1e-29\n",
      "1794.8798988421827\n",
      "100 0.06597398551976585 10000 1e-29\n",
      "1745.7393052255547\n",
      "100 0.06597445275781144 2094 1e-29\n",
      "1745.7406361483484\n",
      "100 0.06597398840280988 2117 1e-29\n",
      "1745.7393188321553\n",
      "100 0.06597398839173874 2085 1e-29\n",
      "1745.7392948808035\n",
      "100 0.0758934532822213 1962 1e-29\n",
      "1575.6647187823155\n",
      "100 0.07589396917378721 10000 1e-29\n",
      "1575.6657917849739\n",
      "100 0.07589345663998337 10000 1e-29\n",
      "1575.6647297401596\n",
      "100 0.07589345571791561 10000 1e-29\n",
      "1575.664710675124\n",
      "100 0.03759335320736601 1684 1e-29\n",
      "1262.6470711119573\n",
      "100 0.03759398332514308 1633 1e-29\n",
      "1262.647581887519\n",
      "100 0.0375933577488643 10000 1e-29\n",
      "1262.6470762604426\n",
      "100 0.037593354756141784 1660 1e-29\n",
      "1262.647067384176\n",
      "100 0.04421950276833542 1538 1e-29\n",
      "1133.3441904705533\n",
      "100 0.044218809524256386 10000 1e-29\n",
      "1133.3444198898376\n",
      "100 0.044219497541757136 1524 1e-29\n",
      "1133.3441928108068\n",
      "100 0.0442195016482998 10000 1e-29\n",
      "1133.3441887383\n",
      "100 0.11706582677665267 1430 1e-29\n",
      "1085.6658736822399\n",
      "100 0.11706509748091065 1447 1e-29\n",
      "1085.6659387258328\n",
      "100 0.11706582113778552 10000 1e-29\n",
      "1085.6658742661211\n",
      "100 0.11706582587785164 10000 1e-29\n",
      "1085.6658729901515\n",
      "100 0.17094128639595496 1456 1e-29\n",
      "1073.1733918841298\n",
      "100 0.1709405401474342 10000 1e-29\n",
      "1073.1733852933114\n",
      "100 0.17094128056249147 1406 1e-29\n",
      "1073.1733917514612\n",
      "100 0.17094128559710953 1420 1e-29\n",
      "1073.173391637532\n",
      "100 0.1917548300459906 1456 1e-29\n",
      "1071.2582893101153\n",
      "100 0.19175407677851553 10000 1e-29\n",
      "1071.2582511737521\n",
      "100 0.19175482412930478 1421 1e-29\n",
      "1071.2582888343686\n",
      "100 0.19175482928689647 1452 1e-29\n",
      "1071.2582892478745\n",
      "100 0.19479528537572932 10000 1e-29\n",
      "1070.9390994713735\n",
      "100 0.19479453018775672 1428 1e-29\n",
      "1070.9390531260692\n",
      "100 0.1947952794366472 1411 1e-29\n",
      "1070.9390989114079\n",
      "100 0.1947952846278298 10000 1e-29\n",
      "1070.9390994596006\n",
      "100 0.19048397030071484 1404 1e-29\n",
      "1070.5084097464594\n",
      "100 0.19048321349499986 1422 1e-29\n",
      "1070.5083564290053\n",
      "100 0.190483964342949 10000 1e-29\n",
      "1070.5084091148624\n",
      "100 0.19048396956275582 1400 1e-29\n",
      "1070.508409780331\n",
      "100 0.17461803559901057 1449 1e-29\n",
      "1069.7479332030205\n",
      "100 0.17461727739953758 10000 1e-29\n",
      "1069.7478739033877\n",
      "100 0.17461802962558437 10000 1e-29\n",
      "1069.7479325113864\n",
      "100 0.1746180348704911 10000 1e-29\n",
      "1069.7479332810685\n",
      "100 0.13872626831566848 10000 1e-29\n",
      "1068.3752495034823\n",
      "100 0.13872550895067093 10000 1e-29\n",
      "1068.375185226656\n",
      "100 0.13872626232991792 1448 1e-29\n",
      "1068.37524876412\n",
      "100 0.13872626759648554 10000 1e-29\n",
      "1068.3752496264756\n",
      "100 0.06421108511516671 10000 1e-29\n",
      "1065.9158933306257\n",
      "100 0.06421032501595292 10000 1e-29\n",
      "1065.9158259565645\n",
      "100 0.06421107912333746 1423 1e-29\n",
      "1065.9158925660267\n",
      "100 0.06421108440476608 10000 1e-29\n",
      "1065.9158934979544\n",
      "100 0.08898547027473125 1465 1e-29\n",
      "1061.6627868207115\n",
      "100 0.08898623000535277 10000 1e-29\n",
      "1061.6627210746874\n",
      "100 0.08898547625746556 10000 1e-29\n",
      "1061.662786084185\n",
      "100 0.0889854709796758 10000 1e-29\n",
      "1061.662787020261\n",
      "100 0.4142871810615816 1568 1e-29\n",
      "1054.9947855108217\n",
      "100 0.4142879374615944 1548 1e-29\n",
      "1054.9947338888137\n",
      "100 0.4142871869957929 10000 1e-29\n",
      "1054.9947849370433\n",
      "100 0.4142871817730196 1520 1e-29\n",
      "1054.9947856937815\n",
      "100 0.8700143491064267 10000 1e-29\n",
      "1050.0080526589359\n",
      "100 0.8700150983071495 1612 1e-29\n",
      "1050.0080315228201\n",
      "100 0.8700143549427679 1559 1e-29\n",
      "1050.0080524188324\n",
      "100 0.8700143498436432 10000 1e-29\n",
      "1050.0080527414166\n",
      "100 1.0682029565821267 1635 1e-29\n",
      "1049.395170236122\n",
      "100 1.0682037017941326 1562 1e-29\n",
      "1049.3951668724858\n",
      "100 1.068202962364822 10000 1e-29\n",
      "1049.3951701981982\n",
      "100 1.0682029573350889 10000 1e-29\n",
      "1049.3951702512288\n",
      "100 1.0857576058539706 1606 1e-29\n",
      "1049.3878065068336\n",
      "100 1.0857583505745367 1592 1e-29\n",
      "1049.3878053985536\n",
      "100 1.0857576116301573 10000 1e-29\n",
      "1049.3878064951393\n",
      "100 1.0857576066089507 10000 1e-29\n",
      "1049.3878065128833\n",
      "100 1.0850173579326423 10000 1e-29\n",
      "1049.3863653535832\n",
      "100 1.0850181025512597 10000 1e-29\n",
      "1049.3863646939446\n",
      "100 1.0850173637075784 1592 1e-29\n",
      "1049.3863653468277\n",
      "100 1.0850173586880913 1604 1e-29\n",
      "1049.3863653575538\n",
      "100 1.078629478825107 10000 1e-29\n",
      "1049.3842610916347\n",
      "100 1.0786302233203742 1565 1e-29\n",
      "1049.3842609683784\n",
      "100 1.0786294845986504 10000 1e-29\n",
      "1049.3842610905972\n",
      "100 1.0786294795811955 1555 1e-29\n",
      "1049.3842610927718\n",
      "100 1.0706336844542932 1672 1e-29\n",
      "1049.3835928199107\n",
      "100 1.0706344288966534 10000 1e-29\n",
      "1049.3835929195411\n",
      "100 1.0706336902273534 1611 1e-29\n",
      "1049.383592821071\n",
      "100 1.0706336852107086 10000 1e-29\n",
      "1049.3835928195185\n",
      "100 1.0699116727419948 1607 1e-29\n",
      "1049.3835826148706\n",
      "100 1.0699124172002428 10000 1e-29\n",
      "1049.3835826408977\n",
      "100 1.0699116785152825 10000 1e-29\n",
      "1049.3835826151574\n",
      "100 1.069911673498396 10000 1e-29\n",
      "1049.3835826147601\n",
      "100 1.0697959068870944 1609 1e-29\n",
      "1049.3835820637228\n",
      "100 1.0697966513513961 10000 1e-29\n",
      "1049.3835820637019\n",
      "100 1.069795912660453 1550 1e-29\n",
      "1049.3835820637298\n",
      "100 1.0697959076434387 1569 1e-29\n",
      "1049.3835820637269\n",
      "100 1.0697405562354732 10000 1e-29\n",
      "1049.3835821300545\n",
      "100 1.0697413006998033 10000 1e-29\n",
      "1049.3835821291937\n",
      "100 1.0697405620088176 10000 1e-29\n",
      "1049.3835821300408\n",
      "100 1.0697405569918175 10000 1e-29\n",
      "1049.3835821300581\n",
      "100 1.0697906360598495 10000 1e-29\n",
      "1049.3835820678835\n",
      "100 1.0697913805240944 1610 1e-29\n",
      "1049.383582067781\n",
      "100 1.0697906418331797 1694 1e-29\n",
      "1049.3835820678892\n",
      "100 1.0697906368161654 1617 1e-29\n",
      "1049.3835820678855\n",
      "100 1.0697952979074898 1599 1e-29\n",
      "1049.3835820641843\n",
      "100 1.0697960423717632 10000 1e-29\n",
      "1049.3835820641464\n",
      "100 1.06979530368082 10000 1e-29\n",
      "1049.3835820641914\n",
      "100 1.0697952986638342 10000 1e-29\n",
      "1049.3835820641789\n",
      "100 1.069795787953666 1605 1e-29\n",
      "1049.383582063811\n",
      "100 1.0697965324179677 1551 1e-29\n",
      "1049.3835820637846\n",
      "100 1.0697957937270246 10000 1e-29\n",
      "1049.3835820638233\n",
      "100 1.0697957887100102 10000 1e-29\n",
      "1049.3835820638096\n",
      "100 1.069795889469063 1629 1e-29\n",
      "1049.383582063735\n",
      "100 1.0697966339333362 10000 1e-29\n",
      "1049.3835820637087\n",
      "100 1.0697958952424074 1602 1e-29\n",
      "1049.3835820637432\n",
      "100 1.0697958902254214 1591 1e-29\n",
      "1049.3835820637428\n",
      "100 1.0697959053157007 1589 1e-29\n",
      "1049.3835820637273\n",
      "100 1.069796649779974 1592 1e-29\n",
      "1049.383582063701\n",
      "100 1.0697959110890594 1585 1e-29\n",
      "1049.3835820637305\n",
      "100 1.069795906072045 1591 1e-29\n",
      "1049.3835820637266\n",
      "100 1.0697959068111373 1556 1e-29\n",
      "1049.383582063721\n",
      "100 1.069796651275425 1539 1e-29\n",
      "1049.383582063699\n",
      "100 1.0697959125844818 10000 1e-29\n",
      "1049.3835820637278\n",
      "100 1.0697959075674817 10000 1e-29\n",
      "1049.3835820637282\n",
      "100 1.0697959067250622 1600 1e-29\n",
      "1049.383582063722\n",
      "100 1.069796651189364 10000 1e-29\n",
      "1049.3835820636994\n",
      "100 1.0697959124984209 10000 1e-29\n",
      "1049.3835820637275\n",
      "100 1.0697959074814065 10000 1e-29\n",
      "1049.383582063727\n",
      "100 1.0697959068094036 1587 1e-29\n",
      "1049.3835820637212\n",
      "100 1.0697966512736912 10000 1e-29\n",
      "1049.3835820637019\n",
      "100 1.0697959125827623 1551 1e-29\n",
      "1049.3835820637282\n",
      "100 1.069795907565748 1576 1e-29\n",
      "1049.383582063726\n",
      "100 1.0697959068111373 1553 1e-29\n",
      "1049.3835820637228\n",
      "100 1.0697966512754107 1582 1e-29\n",
      "1049.3835820637014\n",
      "100 1.0697959125845102 10000 1e-29\n",
      "1049.383582063727\n",
      "100 1.0697959075674817 10000 1e-29\n",
      "1049.3835820637235\n"
     ]
    },
    {
     "data": {
      "text/plain": [
       "      fun: 1049.3835820637228\n",
       " hess_inv: array([[ 6.56300943e-06, -3.41143632e-04,  2.72045421e-04],\n",
       "       [-3.41143632e-04,  1.81131768e-02, -1.44450798e-02],\n",
       "       [ 2.72045421e-04, -1.44450798e-02,  1.15210188e-02]])\n",
       "      jac: array([-1.43432617e-03,  2.89916992e-04,  4.57763672e-05])\n",
       "  message: 'Desired error not necessarily achieved due to precision loss.'\n",
       "     nfev: 174\n",
       "      nit: 25\n",
       "     njev: 41\n",
       "   status: 2\n",
       "  success: False\n",
       "        x: array([3.58499936e-03, 1.59417885e+00, 8.29806255e+00])"
      ]
     },
     "execution_count": 21,
     "metadata": {},
     "output_type": "execute_result"
    }
   ],
   "source": [
    "# ------------------------\n",
    "#       Outer Loop\n",
    "# ------------------------\n",
    "\n",
    "# likelihood function\n",
    "def likelihood(θ, β, x_bins, pmat, evguess, d, x):\n",
    "    \n",
    "    # fixed point\n",
    "    ev = RustPoly(evguess, θ, β, x_bins, pmat, tol1=10e-6, imax1=100, tol2=10e-30, imax2=10000)\n",
    "    \n",
    "    # likelihood\n",
    "    pkvec = pk(θ, β, x_bins, ev)\n",
    "    lik = d*np.log(pkvec[x]) + (1-d)*np.log(1-pkvec[x])\n",
    "    \n",
    "    #lik = np.zeros(x.size)\n",
    "    #for i in range(x.size):\n",
    "    #    pk_val = pk(θ, β, x[i], ev)[x[i]]\n",
    "    #    lik[i] = d[i]*np.log(pk_val) + (1-d[i])*np.log(1-pk_val)\n",
    "    #lik = d*np.log(pk_val) + (1-d)*np.log(pk_val)\n",
    "    \n",
    "    print(-np.sum(lik))\n",
    "    return -np.sum(lik)\n",
    "\n",
    "#test_ev = np.array((1, 2, 1, .5, .2, .5, .1, .3, 1, .3))\n",
    "test_ev = np.array((1,2,3,4,5,6,7,8,9,10))\n",
    "likelihood(np.array((0,0,0)), .999, test_bins, F0, test_ev, df['d'], df['bins'])\n",
    "\n",
    "scipy.optimize.minimize(likelihood, np.array((.01, .01, .01)), args=(.999, test_bins, F0, test_ev, df['d'], df['bins']))\n"
   ]
  },
  {
   "cell_type": "code",
   "execution_count": 33,
   "metadata": {},
   "outputs": [
    {
     "name": "stdout",
     "output_type": "stream",
     "text": [
      "100 1.0694178642048229 1617 1e-29\n",
      "[-1172.97679403 -1174.92250176 -1176.54330509 -1177.2889374\n",
      " -1177.38443252 -1177.24856985 -1176.69332113 -1176.04896543\n",
      " -1175.97675726 -1172.89676057]\n",
      "1049.3876205347137\n"
     ]
    },
    {
     "data": {
      "text/plain": [
       "1049.3876205347137"
      ]
     },
     "execution_count": 33,
     "metadata": {},
     "output_type": "execute_result"
    }
   ],
   "source": [
    "# likelihood function\n",
    "def likelihood1(θ, β, x_bins, pmat, evguess, d, x):\n",
    "    \n",
    "    # fixed point\n",
    "    ev = RustPoly(evguess, θ, β, x_bins, pmat, tol1=10e-6, imax1=100, tol2=10e-30, imax2=10000)\n",
    "    print(ev)\n",
    "    \n",
    "    # likelihood\n",
    "    pkvec = pk(θ, β, x_bins, ev)\n",
    "    lik = d*np.log(pkvec[x]) + (1-d)*np.log(1-pkvec[x])\n",
    "    \n",
    "    #lik = np.zeros(x.size)\n",
    "    #for i in range(x.size):\n",
    "    #    pk_val = pk(θ, β, x[i], ev)[x[i]]\n",
    "    #    lik[i] = d[i]*np.log(pk_val) + (1-d[i])*np.log(1-pk_val)\n",
    "    #lik = d*np.log(pk_val) + (1-d)*np.log(pk_val)\n",
    "    \n",
    "    print(-np.sum(lik))\n",
    "    return -np.sum(lik)\n",
    "likelihood1(np.array((.00358499936,1.59417885,8.2906255)), .999, test_bins, F0, test_ev, df['d'], df['bins'])\n"
   ]
  },
  {
   "cell_type": "code",
   "execution_count": 24,
   "metadata": {},
   "outputs": [
    {
     "data": {
      "text/plain": [
       "0.0035"
      ]
     },
     "execution_count": 24,
     "metadata": {},
     "output_type": "execute_result"
    }
   ],
   "source": []
  },
  {
   "cell_type": "code",
   "execution_count": null,
   "metadata": {},
   "outputs": [],
   "source": []
  }
 ],
 "metadata": {
  "kernelspec": {
   "display_name": "Python 3",
   "language": "python",
   "name": "python3"
  },
  "language_info": {
   "codemirror_mode": {
    "name": "ipython",
    "version": 3
   },
   "file_extension": ".py",
   "mimetype": "text/x-python",
   "name": "python",
   "nbconvert_exporter": "python",
   "pygments_lexer": "ipython3",
   "version": "3.8.5"
  }
 },
 "nbformat": 4,
 "nbformat_minor": 4
}
