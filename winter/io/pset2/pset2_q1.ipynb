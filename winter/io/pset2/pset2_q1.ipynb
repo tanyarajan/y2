{
 "cells": [
  {
   "cell_type": "code",
   "execution_count": 7,
   "metadata": {},
   "outputs": [],
   "source": [
    "#-----------------------------------------\n",
    "# Problem Set 2: Q1 - Static Entry Model\n",
    "#   Tanya Rajan and George Vojta\n",
    "#\n",
    "# We would like to thank Jeanne Sorin,\n",
    "# Michael Cuna, Alex Petrov, & Nadia Lucas \n",
    "# for helpful comments on our code\n",
    "#-----------------------------------------\n",
    "\n",
    "# importing packages\n",
    "import numpy as np\n",
    "import pandas as pd\n",
    "import scipy\n",
    "from scipy.optimize import fsolve\n",
    "from scipy.stats import logistic\n",
    "from scipy.stats import expon\n",
    "from scipy.special import expit\n",
    "import matplotlib.pyplot as plt\n",
    "from mpl_toolkits import mplot3d\n",
    "import seaborn as sns"
   ]
  },
  {
   "cell_type": "code",
   "execution_count": 65,
   "metadata": {},
   "outputs": [],
   "source": [
    "# ------------------------\n",
    "#     Question 1.3.2\n",
    "# ------------------------\n",
    "\n",
    "# Calculate jacobian for Newton's method\n",
    "def BNE_jac(p_init, α, δ, x):\n",
    "    inner1 = x*α - δ*p_init[1]\n",
    "    inner2 = x*α - δ*p_init[0]\n",
    "    J11 = -1\n",
    "    J12 = -δ*(1-expit(-inner1))*(expit(-inner1))\n",
    "    J21 = -δ*(1-expit(-inner2))*(expit(-inner2))\n",
    "    J22 = -1\n",
    "    J = np.array((J11, J12, J21, J22), dtype=float).reshape(2,2)\n",
    "    \n",
    "    return J\n",
    "        \n",
    "#J_test = BNE_jac(np.array((.3, .6)), 1,1, 1)\n",
    "#J_test\n",
    "\n",
    "# Objective function\n",
    "def BNE_obj(p_init, α, δ, x):\n",
    "    inner1 = x*α - δ*p_init[1]\n",
    "    inner2 = x*α - δ*p_init[0]\n",
    "    f1 =  1 - expit(-inner1) - p_init[0]\n",
    "    f2 =  1 - expit(-inner2) - p_init[1]\n",
    "    \n",
    "    # calculating p_it\n",
    "    return np.array([f1, f2], dtype=float)\n",
    "\n",
    "#f_test = BNE_obj(np.array((.2,.8)), 1,1, 1)\n",
    "#f_test\n",
    "\n",
    "\n",
    "# Using Newton's method to solve for BNE given start values \n",
    "def BNE_solver(p_init, α, δ, x, maxiter, tol):\n",
    "    counter = 1\n",
    "    diff = 1\n",
    "    p_new = p_init.reshape((2,1))\n",
    "    while (diff > tol and counter < maxiter):\n",
    "        # Newton's method\n",
    "        p_old = p_new\n",
    "        J = BNE_jac(p_old, α, δ, x)\n",
    "        f = BNE_obj(p_old, α, δ, x)\n",
    "        #p_new = np.linalg.solve(J, J @ p_old - f)\n",
    "        p_new = p_old - np.linalg.inv(J)@f\n",
    "        \n",
    "        # make sure new values are in the range of interest\n",
    "        p_new[p_new > 1] = 1\n",
    "        p_new[p_new < 0] = 0\n",
    "        \n",
    "        # compute difference\n",
    "        diff = np.max(np.abs(p_new - p_old))\n",
    "        counter += 1\n",
    "    return p_new.flatten()\n",
    "\n",
    "#BNE_solver(np.array((.3, .6)), 1, 1, 1, 10000, 10e-20)\n",
    "\n",
    "\n",
    "# Using hand-coded Newton method to find all eqs (fairly slow)\n",
    "def BNE_findall_0(α, δ, x, maxiter=10000, tol=10e-12, sym=False):\n",
    "    # Grid search for multiple equilibria with different start values\n",
    "    looper = lambda p: BNE_solver(p, α, δ, x, maxiter, tol)\n",
    "    grid =  np.mgrid[0:1:1e-1, 0:1:1e-1].reshape(2,-1).T\n",
    "    sols = np.round(np.apply_along_axis(looper, 1, grid),6)\n",
    "    eqs = np.unique(sols, axis=0)\n",
    "    \n",
    "    # Find symmetric eq only \n",
    "    if sym == True:\n",
    "        return eqs[np.argmin(np.abs(eqs[:,0] - eqs[:,1])), :]\n",
    "    \n",
    "    return eqs\n",
    "\n",
    "# Find all Bayesian Nash eq using inbuilt solver (faster version)\n",
    "def BNE_findall(α, δ, x, sym=False):\n",
    "    # Grid search for multiple equilibria with different start values\n",
    "    bne_p = lambda p: BNE_obj(p, α, δ, x)\n",
    "    looper = lambda p0: fsolve(bne_p, p0)\n",
    "    grid =  np.mgrid[0:1:1e-1, 0:1:1e-1].reshape(2,-1).T\n",
    "    sols = np.round(np.apply_along_axis(looper, 1, grid),6)\n",
    "    eqs = np.unique(sols, axis=0)\n",
    "    \n",
    "    # Find symmetric eq only \n",
    "    if sym == True:\n",
    "        return eqs[np.argmin(np.abs(eqs[:,0] - eqs[:,1])), :]\n",
    "    \n",
    "    return eqs\n",
    "\n",
    "BNE_findall_0(2,2,1)"
   ]
  },
  {
   "cell_type": "code",
   "execution_count": 71,
   "metadata": {},
   "outputs": [
    {
     "name": "stdout",
     "output_type": "stream",
     "text": [
      "[0.5 0.5] [0.784577 0.784577]\n"
     ]
    }
   ],
   "source": [
    "# ------------------------\n",
    "#     Question 1.3.3\n",
    "# ------------------------\n",
    "\n",
    "# Set parameters\n",
    "α_set = 3\n",
    "δ_set = 6\n",
    "T = 1000\n",
    "S = 50\n",
    "np.random.seed(463)\n",
    "\n",
    "##### Simulate Data #####\n",
    "\n",
    "# Simulate epsilons and X\n",
    "ϵ1_sim = np.random.logistic(0, 1, T*S).reshape(T,S)\n",
    "ϵ2_sim = np.random.logistic(0, 1, T*S).reshape(T,S)\n",
    "x_sim = (np.random.binomial(1,.5, T*S) + 1).reshape(T,S)\n",
    "\n",
    "# function to find equilibria for each x value\n",
    "def findps(α, δ, sym=False):\n",
    "    p_x1 = BNE_findall(α, δ, 1, sym=sym)\n",
    "    p_x2 = BNE_findall(α, δ, 2, sym=sym)\n",
    "    return p_x1, p_x2\n",
    "\n",
    "# Calculating expectations of other firm's entry (symmetric)\n",
    "p_x1_sim, p_x2_sim = findps(α_set, δ_set, sym=True)\n",
    "probs_sim = np.zeros((T,S))\n",
    "probs_sim[x_sim == 1] = p_x1_sim[0]\n",
    "probs_sim[x_sim == 2] = p_x2_sim[0]\n",
    "print(p_x1_sim, p_x2_sim)\n",
    "\n",
    "# Calculating y\n",
    "y1u_sim = np.array((-δ_set*probs_sim + α_set*x_sim + ϵ1_sim >= 0)*1)\n",
    "y2u_sim = np.array((-δ_set*probs_sim + α_set*x_sim + ϵ2_sim >= 0)*1)\n"
   ]
  },
  {
   "cell_type": "code",
   "execution_count": 70,
   "metadata": {},
   "outputs": [
    {
     "data": {
      "text/plain": [
       "      fun: 1222.8532189387224\n",
       " hess_inv: array([[0.03947297, 0.09420798],\n",
       "       [0.09420798, 0.2308574 ]])\n",
       "      jac: array([ 1.22070312e-04, -3.05175781e-05])\n",
       "  message: 'Desired error not necessarily achieved due to precision loss.'\n",
       "     nfev: 54\n",
       "      nit: 14\n",
       "     njev: 18\n",
       "   status: 2\n",
       "  success: False\n",
       "        x: array([2.74713967, 5.49427905])"
      ]
     },
     "execution_count": 70,
     "metadata": {},
     "output_type": "execute_result"
    }
   ],
   "source": [
    "##### Log Likelihood #####\n",
    "\n",
    "# log lik function for symmetric eq\n",
    "def sym_lik(ω, y1, y2, x):\n",
    "    # parse ω\n",
    "    α = ω[0]\n",
    "    δ = ω[1]\n",
    "    \n",
    "    # calculating P's for each x value\n",
    "    probs = np.zeros((x.size))\n",
    "    p_x1, p_x2 = findps(α, δ, sym=True)\n",
    "    probs[x==1] = p_x1[0]\n",
    "    probs[x==2] = p_x2[0]\n",
    "    \n",
    "    # likelihood per market\n",
    "    gt =  δ*probs - α*x \n",
    "    loglik1 = y1*np.log(1-expit(gt)) + (1-y1)*np.log(expit(gt))\n",
    "    loglik2 = y2*np.log(1-expit(gt)) + (1-y2)*np.log(expit(gt))\n",
    "    loglik = loglik1 + loglik2\n",
    "    #loglik = y1*(probs) + (1-y1)*(1-probs)  + y2*probs +(1-y2)*(1-probs)  \n",
    "    \n",
    "    # summing\n",
    "    return -np.sum(loglik)\n",
    "\n",
    "ω_test = np.array((1,1))\n",
    "#sym_lik(ω_test, np.array(1), np.array(0), np.array(1))\n",
    "#sym_grad(ω_test, y1u_sim[:,1], y2u_sim[:,1], x_sim[:,1])\n",
    "\n",
    "k = 6\n",
    "#scipy.optimize.minimize(sym_lik, ω_test,jac=sym_grad, args=(y1u_sim[:,k], y2u_sim[:,k], x_sim[:,k]))\n",
    "scipy.optimize.minimize(sym_lik, ω_test,args=(y1u_sim[:,k], y2u_sim[:,k], x_sim[:,k]))\n"
   ]
  },
  {
   "cell_type": "code",
   "execution_count": null,
   "metadata": {},
   "outputs": [
    {
     "name": "stdout",
     "output_type": "stream",
     "text": [
      "0\n",
      "5\n",
      "10\n",
      "15\n",
      "20\n",
      "25\n",
      "30\n",
      "35\n",
      "40\n",
      "45\n"
     ]
    }
   ],
   "source": [
    "testS = S\n",
    "outvec = np.zeros((testS, 2))\n",
    "for j in range(testS):\n",
    "    outvec[j,:] = scipy.optimize.minimize(sym_lik, ω_test,args=(y1u_sim[:,j], y2u_sim[:,j], x_sim[:,j])).x\n",
    "    if j % 5 == 0:\n",
    "        print(j)"
   ]
  },
  {
   "cell_type": "code",
   "execution_count": 39,
   "metadata": {},
   "outputs": [
    {
     "data": {
      "text/plain": [
       "Text(0.5, 1.0, 'Estimates of α: mean = 3.009')"
      ]
     },
     "execution_count": 39,
     "metadata": {},
     "output_type": "execute_result"
    },
    {
     "data": {
      "image/png": "[encoded data removed]",
      "text/plain": [
       "<Figure size 432x288 with 1 Axes>"
      ]
     },
     "metadata": {},
     "output_type": "display_data"
    }
   ],
   "source": [
    "sns.set_style('darkgrid')\n",
    "sns.histplot(outvec[:,0]).set_title(\"Estimates of α: mean = \" + str(np.round(np.mean(outvec[:,0]),3)))"
   ]
  },
  {
   "cell_type": "code",
   "execution_count": 47,
   "metadata": {},
   "outputs": [
    {
     "name": "stdout",
     "output_type": "stream",
     "text": [
      "3.00934310074221 6.016044720131471\n",
      "0.8375648558502539 2.013275161325079\n"
     ]
    },
    {
     "data": {
      "image/png": "[encoded data removed]",
      "text/plain": [
       "<Figure size 432x288 with 1 Axes>"
      ]
     },
     "metadata": {},
     "output_type": "display_data"
    }
   ],
   "source": [
    "sns.set_style('darkgrid')\n",
    "sns.histplot(outvec[:,1]).set_title(\"Estimates of δ: mean = \" + str(np.round(np.mean(outvec[:,1]),3)))\n",
    "print(np.mean(outvec[:,0]), np.mean(outvec[:,1]))\n",
    "print(np.std(outvec[:,0]), np.std(outvec[:,1]))"
   ]
  },
  {
   "cell_type": "code",
   "execution_count": 19,
   "metadata": {},
   "outputs": [],
   "source": [
    "# ------------------------\n",
    "#     Question 1.3.4\n",
    "# ------------------------\n",
    "\n",
    "# Set parameters\n",
    "α_set = 3\n",
    "δ_set = 6\n",
    "T = 1000\n",
    "S = 50\n",
    "np.random.seed(463)\n",
    "\n",
    "##### Simulate Data for Multiple Eqs #####\n",
    "\n",
    "# Calculating expectations of other firm's entry (all equilibria)\n",
    "pme_x1_sim, pme_x2_sim = findps(α_set, δ_set)\n",
    "dgp_neq = len(pme_x1_sim)\n",
    "pme_x_sim = [pme_x1_sim, pme_x2_sim]\n",
    "\n",
    "# Function to order equilibria\n",
    "def sorteq(eqs):\n",
    "    firmprobs = [i[0] for i in eqs]\n",
    "    eqidx = np.flip(np.argsort(firmprobs))\n",
    "    return [eqs[i] for i in eqidx]\n",
    "    \n",
    "# Function that returns probabilities for each firm given x\n",
    "def pickeq(x):\n",
    "    # find the possible equilibria and index them correctly\n",
    "    i = x - 1\n",
    "    eqs = pme_x_sim[i]\n",
    "    neq = eqs.shape[0]\n",
    "    ordered = sorteq(eqs)\n",
    "    \n",
    "    # assign eq probabilities and pick\n",
    "    k2vals = [(2/(i+1)) for i in range(dgp_neq)]\n",
    "    peq = expon.pdf(x, scale=k2vals)\n",
    "    choice = np.random.choice(range(neq), 1, p=(peq/np.sum(peq))).item()\n",
    "    \n",
    "    # find firm 1 and 2 probabilities for the equilibrium\n",
    "    px1 = ordered[choice][0]\n",
    "    px2 = ordered[choice][1]\n",
    "    return np.array((px1, px2))\n",
    "\n",
    "# Applying to all time periods to get firm probability data\n",
    "probs1_sim = np.zeros((T,S))\n",
    "probs2_sim = np.zeros((T,S))\n",
    "for t in range(T):\n",
    "    for s in range(S):\n",
    "        i = x_sim[t,s] - 1 \n",
    "        p1, p2 = pickeq(x_sim[t,s])\n",
    "        probs1_sim[t,s] = p1\n",
    "        probs2_sim[t,s] = p2\n",
    "        \n",
    "# Finally constructing ys\n",
    "y1me_sim = np.array((-δ_set*probs2_sim + α_set*x_sim + ϵ1_sim >= 0)*1)\n",
    "y2me_sim = np.array((-δ_set*probs1_sim + α_set*x_sim + ϵ2_sim >= 0)*1)"
   ]
  },
  {
   "cell_type": "code",
   "execution_count": 20,
   "metadata": {},
   "outputs": [
    {
     "data": {
      "text/plain": [
       "[array([0.92928, 0.07072]), array([0.5, 0.5]), array([0.07072, 0.92928])]"
      ]
     },
     "execution_count": 20,
     "metadata": {},
     "output_type": "execute_result"
    }
   ],
   "source": [
    "soloeq1, soloeq2 = findps(3, 6)\n",
    "sorteq(soloeq1)"
   ]
  },
  {
   "cell_type": "code",
   "execution_count": 22,
   "metadata": {},
   "outputs": [
    {
     "data": {
      "text/plain": [
       "      fun: 2138.301125801535\n",
       " hess_inv: array([[0.93736439, 2.11581916],\n",
       "       [2.11581916, 4.7787143 ]])\n",
       "      jac: array([-32.13201904,  13.50842285])\n",
       "  message: 'Desired error not necessarily achieved due to precision loss.'\n",
       "     nfev: 204\n",
       "      nit: 6\n",
       "     njev: 65\n",
       "   status: 2\n",
       "  success: False\n",
       "        x: array([3.49229664, 7.04826891])"
      ]
     },
     "execution_count": 22,
     "metadata": {},
     "output_type": "execute_result"
    }
   ],
   "source": [
    "##### Log likelihood multiple eqs #####\n",
    "\n",
    "def me_lik(ω, y1, y2, x):\n",
    "    # parse ω\n",
    "    α = ω[0]\n",
    "    δ = ω[1]\n",
    "    \n",
    "    # find ps\n",
    "    p_x1, p_x2 = findps(α, δ)\n",
    "    op_x1 = sorteq(p_x1)\n",
    "    op_x2 = sorteq(p_x2)\n",
    "    \n",
    "    # handling if xs have diff eq size\n",
    "    neq = max(len(p_x1), len(p_x2))\n",
    "    if neq > len(p_x1):\n",
    "        op_x1 = op_x1*neq\n",
    "    if neq > len(p_x2):\n",
    "        op_x2 = op_x2*neq\n",
    "        \n",
    "    # assign P based on x\n",
    "    pr1 = np.zeros((x.size, neq))\n",
    "    pr2 = np.zeros((x.size, neq))\n",
    "    for k in range(neq):\n",
    "        pr1[:,k][x==1] = op_x1[k][0]\n",
    "        pr2[:,k][x==1] = op_x1[k][1]\n",
    "        pr1[:,k][x==2] = op_x2[k][0]\n",
    "        pr2[:,k][x==2] = op_x2[k][1]\n",
    "        \n",
    "    # find weights\n",
    "    weights = np.zeros((x.size, neq))\n",
    "    for k in range(neq):\n",
    "        ki = k+1\n",
    "        weights[:,k][x==1] = (ki/2)*np.exp(-ki/2)\n",
    "        weights[:,k][x==2] = (ki/2)*np.exp(-ki)\n",
    "    \n",
    "    # likelihood\n",
    "    y = np.array((y1, y2)).T.reshape(y1.size,2)\n",
    "    git = np.zeros((x.size, neq, 2))\n",
    "    git[:,:,0] = δ*pr1 - α*np.repeat(x, neq).reshape(x.size,neq)\n",
    "    git[:,:,1] = δ*pr2 - α*np.repeat(x, neq).reshape(x.size,neq)\n",
    "    loglik = np.zeros((x.size,2))\n",
    "    for t in range(x.size):\n",
    "        for f in range(2):\n",
    "            fmin = (f+1) % 2\n",
    "            ll = np.zeros(neq)\n",
    "            for k in range(neq):\n",
    "                ll[k] = weights[t,k]*np.power((1- expit(git[t,k,fmin])), (y[t,f])) * np.power((expit(git[t,k,fmin])), (1-y[t,f]))\n",
    "            loglik[t,f] = np.log(np.sum(ll))\n",
    "    \n",
    "    # return\n",
    "    return -np.sum(loglik)\n",
    "\n",
    "\n",
    "z = 10\n",
    "ω_test = np.array((1,1))\n",
    "me_lik(ω_test, y1u_sim[:,z], y2u_sim[:,z], x_sim[:,z])\n",
    "#me_lik(ω_test, np.array(1),np.array(1),np.array(1))\n",
    "    \n",
    "scipy.optimize.minimize(me_lik, ω_test,args=(y1me_sim[:,k], y2me_sim[:,k], x_sim[:,k]))"
   ]
  },
  {
   "cell_type": "code",
   "execution_count": 23,
   "metadata": {},
   "outputs": [
    {
     "name": "stdout",
     "output_type": "stream",
     "text": [
      "0 [3.49147183 7.15819223]\n",
      "5 [3.41570253 6.73772859]\n",
      "10 [4.00444898 7.85771141]\n",
      "15 [3.52638961 7.0674016 ]\n",
      "20 [3.30203445 6.60395293]\n",
      "25 [3.42065572 6.57811861]\n",
      "30 [4.22821462 8.48342267]\n",
      "35 [4.22614373 8.24474566]\n",
      "40 [3.43965347 6.8396909 ]\n",
      "45 [3.46451856 6.83088075]\n"
     ]
    }
   ],
   "source": [
    "# Loop through all samples\n",
    "testS = S\n",
    "outvec_me = np.zeros((testS, 2))\n",
    "for j in range(testS):\n",
    "    outvec_me[j,:] = scipy.optimize.minimize(me_lik, ω_test,args=(y1me_sim[:,j], y2me_sim[:,j], x_sim[:,j])).x\n",
    "    if j % 5 == 0:\n",
    "        print(j, outvec_me[j,:])\n"
   ]
  },
  {
   "cell_type": "code",
   "execution_count": 41,
   "metadata": {},
   "outputs": [
    {
     "data": {
      "text/plain": [
       "Text(0.5, 1.0, 'Estimates of α: mean = 3.621')"
      ]
     },
     "execution_count": 41,
     "metadata": {},
     "output_type": "execute_result"
    },
    {
     "data": {
      "image/png": "[encoded data removed]",
      "text/plain": [
       "<Figure size 432x288 with 1 Axes>"
      ]
     },
     "metadata": {},
     "output_type": "display_data"
    }
   ],
   "source": [
    "sns.set_style('darkgrid')\n",
    "sns.histplot(outvec_me[:,0]).set_title(\"Estimates of α: mean = \" + str(np.round(np.mean(outvec_me[:,0]),3)))"
   ]
  },
  {
   "cell_type": "code",
   "execution_count": 43,
   "metadata": {},
   "outputs": [
    {
     "data": {
      "text/plain": [
       "Text(0.5, 1.0, 'Estimates of δ: mean = 7.148')"
      ]
     },
     "execution_count": 43,
     "metadata": {},
     "output_type": "execute_result"
    },
    {
     "data": {
      "image/png": "[encoded data removed]",
      "text/plain": [
       "<Figure size 432x288 with 1 Axes>"
      ]
     },
     "metadata": {},
     "output_type": "display_data"
    }
   ],
   "source": [
    "sns.set_style('darkgrid')\n",
    "sns.histplot(outvec_me[:,1]).set_title(\"Estimates of δ: mean = \" + str(np.round(np.mean(outvec_me[:,1]),3)))"
   ]
  },
  {
   "cell_type": "code",
   "execution_count": 45,
   "metadata": {},
   "outputs": [
    {
     "name": "stdout",
     "output_type": "stream",
     "text": [
      "3.6213058673334793 7.147682810526623\n",
      "0.6219131973184181 1.2341316036271124\n"
     ]
    }
   ],
   "source": [
    "print(np.mean(outvec_me[:,0]), np.mean(outvec_me[:,1]))\n",
    "print(np.std(outvec_me[:,0]), np.std(outvec_me[:,1]))"
   ]
  },
  {
   "cell_type": "code",
   "execution_count": null,
   "metadata": {},
   "outputs": [],
   "source": []
  }
 ],
 "metadata": {
  "kernelspec": {
   "display_name": "Python 3",
   "language": "python",
   "name": "python3"
  },
  "language_info": {
   "codemirror_mode": {
    "name": "ipython",
    "version": 3
   },
   "file_extension": ".py",
   "mimetype": "text/x-python",
   "name": "python",
   "nbconvert_exporter": "python",
   "pygments_lexer": "ipython3",
   "version": "3.8.5"
  }
 },
 "nbformat": 4,
 "nbformat_minor": 4
}
